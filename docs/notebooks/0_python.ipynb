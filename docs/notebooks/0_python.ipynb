{
 "cells": [
  {
   "cell_type": "markdown",
   "metadata": {},
   "source": [
    "# Tutorial 0: Python warm-up\n",
    "\n",
    "[![View notebooks on Github](https://img.shields.io/static/v1.svg?logo=github&label=Repo&message=View%20On%20Github&color=lightgrey)](https://github.com/phlippe/uvadlc_notebooks/blob/master/docs/tutorial_notebooks/tutorial10/Adversarial_Attacks.ipynb)\n",
    "\n",
    "**Author:** Alejandro Monroy"
   ]
  },
  {
   "cell_type": "markdown",
   "metadata": {},
   "source": [
    "This tutorial is not meant to be a self-contained guide to learn Python from scratch, but a brief recap of the tools that you need to know to be able to understand the rest of the tutorials."
   ]
  },
  {
   "cell_type": "markdown",
   "metadata": {},
   "source": [
    "## 1. Python basics"
   ]
  },
  {
   "cell_type": "markdown",
   "metadata": {},
   "source": [
    "### 1.1. Primitive Data Types\n",
    "\n",
    "Python supports several primitive data types that are the building blocks for data manipulation:\n",
    "\n",
    "- **Integers (`int`)**: Whole numbers, e.g., `1`, `42`, `-7`.\n",
    "- **Floating-point numbers (`float`)**: Numbers with decimal points, e.g., `3.14`, `-0.001`.\n",
    "- **Strings (`str`)**: Sequences of characters, e.g., `\"hello\"`, `\"Python\"`.\n",
    "- **Booleans (`bool`)**: Logical values representing `True` or `False`.\n",
    "\n",
    "These primitive data types are essential for performing basic operations and storing simple values in Python."
   ]
  },
  {
   "cell_type": "code",
   "execution_count": 11,
   "metadata": {},
   "outputs": [
    {
     "name": "stdout",
     "output_type": "stream",
     "text": [
      "x =  10\n",
      "Type of x:  <class 'int'>\n",
      "\n",
      "y =  3.14\n",
      "Type of y:  <class 'float'>\n",
      "\n",
      "name =  Alice\n",
      "Type of name:  <class 'str'>\n",
      "\n",
      "condition_1 =  False\n",
      "Type of condition_1:  <class 'bool'>\n",
      "condition_2 =  True\n",
      "Type of condition_2:  <class 'bool'>\n"
     ]
    }
   ],
   "source": [
    "# Integer\n",
    "x = 10\n",
    "print(\"x = \", x)\n",
    "print(\"Type of x: \", type(x))\n",
    "\n",
    "# Float\n",
    "y = 3.14\n",
    "print(\"\\ny = \", y)\n",
    "print(\"Type of y: \", type(y))\n",
    "\n",
    "# String\n",
    "name = \"Alice\"\n",
    "print(\"\\nname = \", name)\n",
    "print(\"Type of name: \", type(name))\n",
    "\n",
    "# Boolean\n",
    "condition_1 = x == 11\n",
    "print(\"\\ncondition_1 = \", condition_1)\n",
    "print(\"Type of condition_1: \", type(condition_1))\n",
    "condition_2 = x <= 11\n",
    "print(\"condition_2 = \", condition_2)\n",
    "print(\"Type of condition_2: \", type(condition_2))"
   ]
  },
  {
   "cell_type": "markdown",
   "metadata": {},
   "source": [
    "### 1.2. Mathematical Operations\n",
    "\n",
    "Python supports various mathematical operations for numerical computations:\n",
    "\n",
    "- **Basic Arithmetic**: `+` (addition), `-` (subtraction), `*` (multiplication), `/` (division).\n",
    "- **Exponentiation**: `**` (power), e.g., `2 ** 3` results in `8`.\n",
    "- **Modulus**: `%` (remainder), e.g., `10 % 3` results in `1`.\n",
    "- **Floor Division**: `//` (integer division), e.g., `10 // 3` results in `3`."
   ]
  },
  {
   "cell_type": "markdown",
   "metadata": {},
   "source": [
    "### 1.3. Control Structures\n",
    "\n",
    "Control structures dictate the flow of execution in a program:\n",
    "\n",
    "- **Conditional Statements**: `if`, `elif`, `else` for decision making.\n",
    "- **Loops**: `for` to iterate over sequences, `while` to repeat as long as a condition is true."
   ]
  },
  {
   "cell_type": "code",
   "execution_count": 6,
   "metadata": {},
   "outputs": [
    {
     "name": "stdout",
     "output_type": "stream",
     "text": [
      "6\n",
      "12\n",
      "18\n",
      "24\n"
     ]
    }
   ],
   "source": [
    "# Example code that prints all integers between 1 and 30 that are divisible by 2 and 3\n",
    "for num in range(1, 30):\n",
    "    if num % 2 == 0 and num % 3 == 0:\n",
    "        print(num)"
   ]
  },
  {
   "cell_type": "markdown",
   "metadata": {},
   "source": [
    "### 1.4. Functions\n",
    "A Python function is a block of reusable code that performs a specific task. It can take inputs (called parameters), execute a series of statements, and return an output. Functions help in organizing code, making it more readable and reusable."
   ]
  },
  {
   "cell_type": "code",
   "execution_count": 12,
   "metadata": {},
   "outputs": [
    {
     "data": {
      "text/plain": [
       "'Hello, Alex! How are you today?'"
      ]
     },
     "execution_count": 12,
     "metadata": {},
     "output_type": "execute_result"
    }
   ],
   "source": [
    "# Example of Python function\n",
    "def greet(name):\n",
    "    \"\"\"\n",
    "    Greets a person by printing a personalized message including their name.\n",
    "\n",
    "    Args:\n",
    "        name (str): The name of the person to greet.\n",
    "\n",
    "    Returns:\n",
    "        str: Personalized greeting message.\n",
    "    \"\"\"\n",
    "    return f\"Hello, {name}! How are you today?\"\n",
    "\n",
    "# Example usage\n",
    "greet(\"Alex\")"
   ]
  },
  {
   "cell_type": "markdown",
   "metadata": {},
   "source": [
    "### 1.5. Classes\n",
    "A Python class is a blueprint for creating objects. It defines a set of attributes and methods that the created objects will have. Classes allow for object-oriented programming, which helps in organizing code into reusable and related components."
   ]
  },
  {
   "cell_type": "code",
   "execution_count": 14,
   "metadata": {},
   "outputs": [
    {
     "name": "stdout",
     "output_type": "stream",
     "text": [
      "Hello, Alex! You are 25 years old. How are you today?\n",
      "Hello, Alex! You are 26 years old. How are you today?\n"
     ]
    }
   ],
   "source": [
    "# Example of Python class\n",
    "class Person:\n",
    "    \"\"\"\n",
    "    A class used to represent a person with a name and age, and to greet them with a personalized message.\n",
    "    \"\"\"\n",
    "\n",
    "    def __init__(self, name, age):\n",
    "        \"\"\"\n",
    "        Initializes a new instance of the Person class.\n",
    "\n",
    "        Args:\n",
    "            name (str): The name of the person.\n",
    "            age (int): The age of the person.\n",
    "        \"\"\"\n",
    "        self.name = name\n",
    "        self.age = age\n",
    "\n",
    "    def birthday(self):\n",
    "        \"\"\"\n",
    "        Increments the age of the person by 1.\n",
    "        \"\"\"\n",
    "        self.age += 1\n",
    "\n",
    "    def greet(self):\n",
    "        \"\"\"\n",
    "        Greets the person by returning a personalized message including their name and age.\n",
    "\n",
    "        Returns:\n",
    "            str: Personalized greeting message.\n",
    "        \"\"\"\n",
    "        return f\"Hello, {self.name}! You are {self.age} years old. How are you today?\"\n",
    "\n",
    "# Example usage\n",
    "alex = Person(\"Alex\", 25)\n",
    "print(alex.greet())\n",
    "alex.birthday()\n",
    "print(alex.greet())"
   ]
  },
  {
   "cell_type": "markdown",
   "metadata": {},
   "source": [
    "<div class=\"alert alert-block alert-info\"> \n",
    "<b>Tip:</b> If you are going to use a piece of code more than once, it is usually a good practice to encapsulate it into a function. \n",
    "</div>"
   ]
  },
  {
   "cell_type": "markdown",
   "metadata": {},
   "source": [
    "### 1.6. Collections\n",
    "- List: mutable ordered sequence of objects\n",
    "- Tuple: inmutable ordered sequence of objects\n",
    "- Set: unordered sequence of items\n",
    "- Dictionary: mutable collection of key-value pairs\n",
    "\n",
    "| Collection Type | Mutable | Ordered | Duplicate Elements | Syntax Example          |\n",
    "|-----------------|---------|---------|--------------------|-------------------------|\n",
    "| List            | ✔️      | ✔️      | ✔️                 | `[1, 2, 3]`             |\n",
    "| Tuple           | ❌      | ✔️      | ✔️                 | `(1, 2, 3)`             |\n",
    "| Set             | ✔️      | ❌      | ❌                 | `{1, 2, 3}`             |\n",
    "| Dictionary      | ✔️      | ❌      | Keys: ❌, Values: ✔️ | `{'a': 1, 'b': 2}` |"
   ]
  },
  {
   "cell_type": "markdown",
   "metadata": {},
   "source": [
    "We can define collections by comprehension. For example, we can define a list with the first 10 powers of 10 as follows:"
   ]
  },
  {
   "cell_type": "code",
   "execution_count": 6,
   "metadata": {},
   "outputs": [
    {
     "name": "stdout",
     "output_type": "stream",
     "text": [
      "[1, 2, 4, 8, 16, 32, 64, 128, 256, 512]\n",
      "[1, 2, 4, 8, 16, 32, 64, 128, 256, 512]\n",
      "[1, 2, 4, 8, 16, 32, 64, 128, 256, 512]\n"
     ]
    }
   ],
   "source": [
    "# By extension\n",
    "l1 = [1, 2, 4, 8, 16, 32, 64, 128, 256, 512]\n",
    "\n",
    "# Using a for loop\n",
    "l2 = []\n",
    "for i in range(10):\n",
    "    l2.append(2**i)\n",
    "\n",
    "# Using list comprehension\n",
    "l3 = [2**i for i in range(10)]\n",
    "\n",
    "print(l1)\n",
    "print(l2)\n",
    "print(l3)\n",
    "\n",
    "# Check if all lists are equal\n",
    "assert l1 == l2 == l3"
   ]
  },
  {
   "cell_type": "markdown",
   "metadata": {},
   "source": [
    "We can also define other types of collections by comprehension. For example, let's define a dictionary where the keys are the integers from 0 to 9 and the values the corresponding power of 2:"
   ]
  },
  {
   "cell_type": "code",
   "execution_count": 7,
   "metadata": {},
   "outputs": [
    {
     "name": "stdout",
     "output_type": "stream",
     "text": [
      "{0: 1, 1: 2, 2: 4, 3: 8, 4: 16, 5: 32, 6: 64, 7: 128, 8: 256, 9: 512}\n",
      "{0: 1, 1: 2, 2: 4, 3: 8, 4: 16, 5: 32, 6: 64, 7: 128, 8: 256, 9: 512}\n",
      "{0: 1, 1: 2, 2: 4, 3: 8, 4: 16, 5: 32, 6: 64, 7: 128, 8: 256, 9: 512}\n"
     ]
    }
   ],
   "source": [
    "# By extension\n",
    "d1 = {0: 1, 1: 2, 2: 4, 3: 8, 4: 16, 5: 32, 6: 64, 7: 128, 8: 256, 9: 512}\n",
    "\n",
    "# Using a for loop\n",
    "d2 = {i: 2**i for i in range(10)}\n",
    "for i in range(10):\n",
    "    d2[i] = 2**i\n",
    "\n",
    "# Using dictionary comprehension\n",
    "d3 = {i: 2**i for i in range(10)}\n",
    "\n",
    "print(d1)\n",
    "print(d2)\n",
    "print(d3)\n",
    "\n",
    "# Check if all dictionaries are equal\n",
    "assert d1 == d2 == d3"
   ]
  },
  {
   "cell_type": "markdown",
   "metadata": {},
   "source": [
    "💡 **Note:** In the previous cells we used an `assert` statement. The `assert` statement is used for debugging purposes. It tests a condition, and if the condition is `False`, it raises an `AssertionError` with an optional error message. This helps in identifying and fixing bugs by ensuring that certain conditions hold true during the execution of the program. In this case, we include it to make sure/show that the three lists are indeed equal!"
   ]
  },
  {
   "cell_type": "markdown",
   "metadata": {},
   "source": [
    "Hello"
   ]
  },
  {
   "cell_type": "markdown",
   "metadata": {},
   "source": [
    "## 2. Handling multi-dimensional data with Numpy\n",
    "\n",
    "NumPy is a powerful library for numerical computing in Python. It provides support for large, multi-dimensional arrays and matrices, along with a collection of mathematical functions to operate on these arrays efficiently. NumPy is widely used in data science, machine learning, and scientific computing due to its performance and ease of use."
   ]
  },
  {
   "cell_type": "code",
   "execution_count": 18,
   "metadata": {},
   "outputs": [
    {
     "name": "stdout",
     "output_type": "stream",
     "text": [
      "[1 2 3 4 5 6]\n",
      "[[1. 2. 3.]\n",
      " [4. 5. 6.]]\n"
     ]
    }
   ],
   "source": [
    "import numpy as np\n",
    "\n",
    "# Example of numpy arrays\n",
    "# 1D array\n",
    "a = np.array([1, 2, 3, 4, 5, 6])\n",
    "print(a)\n",
    "# 2D array\n",
    "b = np.array([[1, 2, 3], [4, 5, 6]], dtype=np.float32)\n",
    "print(b)\n"
   ]
  },
  {
   "cell_type": "markdown",
   "metadata": {},
   "source": [
    "### 2.1. Numpy array attributes\n",
    "\n",
    "These are some of the most important attributes of numpy arrays:\n",
    "\n",
    "| Method                        | Description                                                                 |\n",
    "|-------------------------------|-----------------------------------------------------------------------------|\n",
    "| `ndarray.shape`               | Returns the shape (dimensions) of the array.                                |\n",
    "| `ndarray.dtype`               | Returns the data type of the array elements.                                |\n",
    "| `ndarray.ndim`                | Returns the number of dimensions of the array.                              |\n",
    "| `ndarray.size`                | Returns the total number of elements in the array.                          |\n",
    "| `ndarray.T`                   | Returns the transpose of the array.                                         |"
   ]
  },
  {
   "cell_type": "code",
   "execution_count": 21,
   "metadata": {},
   "outputs": [
    {
     "name": "stdout",
     "output_type": "stream",
     "text": [
      "Array:\n",
      " [1 2 3 4 5 6]\n",
      "Shape: (6,)\n",
      "Number of dimensions:  1\n",
      "Number of elements:  6\n",
      "Data type:  int64\n",
      "\n",
      "Array:\n",
      " [[1. 2. 3.]\n",
      " [4. 5. 6.]]\n",
      "Shape: (2, 3)\n",
      "Number of dimensions:  2\n",
      "Number of elements:  6\n",
      "Data type: float32\n"
     ]
    }
   ],
   "source": [
    "print(\"Array:\\n\", a)\n",
    "print(\"Shape:\", a.shape)\n",
    "print(\"Number of dimensions: \", a.ndim)\n",
    "print(\"Number of elements: \", a.size)\n",
    "print(\"Data type: \", a.dtype)\n",
    "\n",
    "print(\"\\nArray:\\n\", b)\n",
    "print(\"Shape:\", b.shape)\n",
    "print(\"Number of dimensions: \", b.ndim)\n",
    "print(\"Number of elements: \", b.size)\n",
    "print(\"Data type:\", b.dtype)"
   ]
  },
  {
   "cell_type": "markdown",
   "metadata": {},
   "source": [
    "### 2.2. Elemental operations between numpy arrays"
   ]
  },
  {
   "cell_type": "code",
   "execution_count": 10,
   "metadata": {},
   "outputs": [
    {
     "name": "stdout",
     "output_type": "stream",
     "text": [
      "Addition of u1 and u2: [3 6 9]\n",
      "Subtraction of u1 and u2: [-1 -2 -3]\n",
      "Element-wise multiplication of u1 and u2: [ 2  8 18]\n",
      "Element-wise division of u1 and u2: [0.5 0.5 0.5]\n"
     ]
    }
   ],
   "source": [
    "### Operations between numpy arrays\n",
    "u1 = np.array([1, 2, 3])\n",
    "u2 = np.array([2, 4, 6])\n",
    "print(\"Addition of u1 and u2:\", u1 + u2)\n",
    "print(\"Subtraction of u1 and u2:\", u1 - u2)\n",
    "print(\"Element-wise multiplication of u1 and u2:\", u1 * u2)\n",
    "print(\"Element-wise division of u1 and u2:\", u1 / u2)"
   ]
  },
  {
   "cell_type": "markdown",
   "metadata": {},
   "source": [
    "Another commonly used vector operation is the dot product. Mathematically, the dot product (denoted with $\\cdot$) of two vectors $a = [a_1, a_2, ..., a_N]$, $b = [b_1, b_2, ..., b_N]$ is\n",
    "$$\n",
    "a \\cdot b = a_1b_1 + a_2b_2 + ... + a_Nb_N.\n",
    "$$\n",
    "\n",
    "Notice that:\n",
    "- The input is two vectors, but the output is a single scalar!\n",
    "- Both input vectors need to have the same length"
   ]
  },
  {
   "cell_type": "code",
   "execution_count": 11,
   "metadata": {},
   "outputs": [
    {
     "name": "stdout",
     "output_type": "stream",
     "text": [
      "Dot product of u1 and u2: 28\n"
     ]
    }
   ],
   "source": [
    "print(\"Dot product of u1 and u2:\", np.dot(u1, u2))"
   ]
  },
  {
   "cell_type": "markdown",
   "metadata": {},
   "source": [
    "🤔 _Task for you:</b> Apply the formula above by hand and check that the result we got is indeed correct!_"
   ]
  },
  {
   "cell_type": "markdown",
   "metadata": {},
   "source": [
    "### Higher-dimensional arrays\n",
    "We can also have higher-dimensional arrays, which can be used to represent matrices. The element-wise operations that we just saw also apply in this case. Now, we also perform matrix multiplication using the `@` operator or `np.matmul`:"
   ]
  },
  {
   "cell_type": "code",
   "execution_count": 12,
   "metadata": {},
   "outputs": [
    {
     "name": "stdout",
     "output_type": "stream",
     "text": [
      "Addition of m1 and m2:\n",
      " [[ 3  6]\n",
      " [ 9 12]]\n",
      "Multiplication of m1 and m2:\n",
      " [[14 20]\n",
      " [30 44]]\n",
      "Multiplication of m1 and m2:\n",
      " [[14 20]\n",
      " [30 44]]\n"
     ]
    }
   ],
   "source": [
    "m1 = np.array([[1, 2], [3, 4]])\n",
    "m2 = np.array([[2, 4], [6, 8]])\n",
    "print(\"Addition of m1 and m2:\\n\", m1 + m2)\n",
    "print(\"Multiplication of m1 and m2:\\n\", np.matmul(m1, m2))\n",
    "print(\"Multiplication of m1 and m2:\\n\", m1 @ m2)"
   ]
  },
  {
   "cell_type": "code",
   "execution_count": 13,
   "metadata": {},
   "outputs": [
    {
     "data": {
      "text/plain": [
       "numpy.ndarray"
      ]
     },
     "execution_count": 13,
     "metadata": {},
     "output_type": "execute_result"
    }
   ],
   "source": [
    "type(m1)"
   ]
  },
  {
   "cell_type": "markdown",
   "metadata": {},
   "source": [
    "### 2.3. Important metohds of numpy arrays\n",
    "\n",
    "### Array Manipulation\n",
    "\n",
    "| Method                        | Description                                                                 |\n",
    "|-------------------------------|-----------------------------------------------------------------------------|\n",
    "| `ndarray.reshape(newshape)`   | Returns a new array with the same data but a new shape.                     |\n",
    "| `ndarray.flatten()`           | Returns a copy of the array collapsed into one dimension.                   |\n",
    "| `ndarray.sort(axis=-1)`       | Sorts the array along the specified axis.                                   |\n",
    "| `ndarray.concatenate((a1, a2, ...), axis=0)` | Joins a sequence of arrays along an existing axis.         |\n"
   ]
  },
  {
   "cell_type": "code",
   "execution_count": 26,
   "metadata": {},
   "outputs": [
    {
     "name": "stdout",
     "output_type": "stream",
     "text": [
      "Array:\n",
      "  [[1 2 3]\n",
      " [4 5 6]]\n",
      "Shape:  (2, 3)\n",
      "\n",
      "Flattened array:\n",
      " [1 2 3 4 5 6]\n",
      "Shape of flattened array:  (6,)\n"
     ]
    }
   ],
   "source": [
    "a = np.array([[1, 2, 3], [4, 5, 6]])\n",
    "print(\"Array:\\n \", a)\n",
    "print(\"Shape: \", a.shape)\n",
    "\n",
    "# The following methods turns the array into a 1D array with the same elements\n",
    "a_flattened = a.flatten()\n",
    "print(\"\\nFlattened array:\\n\", a_flattened)\n",
    "print(\"Shape of flattened array: \", a_flattened.shape)\n"
   ]
  },
  {
   "cell_type": "markdown",
   "metadata": {},
   "source": [
    "### Mathematical Operations\n",
    "| Method                        | Description                                                                 |\n",
    "|-------------------------------|-----------------------------------------------------------------------------|\n",
    "| `ndarray.dot(b)`              | Returns the dot product of two arrays.                                      |\n",
    "| `ndarray.sum(axis=None)`      | Returns the sum of the array elements over the specified axis.              |\n",
    "| `ndarray.prod(axis=None)`     | Returns the product of the array elements over the specified axis.          |\n",
    "| `ndarray.cumsum(axis=None)`   | Returns the cumulative sum of the array elements over the specified axis.   |\n",
    "| `ndarray.cumprod(axis=None)`  | Returns the cumulative product of the array elements over the specified axis.|"
   ]
  },
  {
   "cell_type": "code",
   "execution_count": 31,
   "metadata": {},
   "outputs": [
    {
     "name": "stdout",
     "output_type": "stream",
     "text": [
      "Array:\n",
      "  [[2 2 2 2]\n",
      " [3 3 3 3]]\n",
      "Sum of the array across columns:  [5 5 5 5]\n",
      "Sum of the array across all dimensions:  20\n",
      "Product of the array across rows:;  [16 81]\n"
     ]
    }
   ],
   "source": [
    "a = np.array([[2, 2, 2, 2], [3, 3, 3, 3]])\n",
    "print(\"Array:\\n \", a)\n",
    "\n",
    "print(\"Sum of the array across columns: \", a.sum(axis=0))\n",
    "print(\"Sum of the array across all dimensions: \", a.sum())\n",
    "print(\"Product of the array across rows:; \", a.prod(axis=-1))"
   ]
  },
  {
   "cell_type": "markdown",
   "metadata": {},
   "source": [
    "🤔 **Food for thought:** Why did we use `axis = -1` in the last example? What would be an equivalent value for the axis?"
   ]
  },
  {
   "cell_type": "markdown",
   "metadata": {},
   "source": [
    "### Statistical Methods\n",
    "| Method                        | Description                                                                 |\n",
    "|-------------------------------|-----------------------------------------------------------------------------|\n",
    "| `ndarray.mean(axis=None)`     | Returns the mean of the array elements over the specified axis.             |\n",
    "| `ndarray.std(axis=None)`      | Returns the standard deviation of the array elements over the specified axis.|\n",
    "| `ndarray.var(axis=None)`      | Returns the variance of the array elements over the specified axis.         |\n",
    "| `ndarray.min(axis=None)`      | Returns the minimum value of the array elements over the specified axis.    |\n",
    "| `ndarray.max(axis=None)`      | Returns the maximum value of the array elements over the specified axis.    |\n",
    "| `ndarray.argmin(axis=None)`   | Returns the indices of the minimum values along an axis.                   |\n",
    "| `ndarray.argmax(axis=None)`   | Returns the indices of the maximum values along an axis.                   |"
   ]
  },
  {
   "cell_type": "code",
   "execution_count": 46,
   "metadata": {},
   "outputs": [
    {
     "name": "stdout",
     "output_type": "stream",
     "text": [
      "Array:\n",
      "  [[ 1  3  2  0  2]\n",
      " [10  5  5  2  6]]\n",
      "Minimum value across columns:  [0 2]\n",
      "Mean across all dimensions:  3.6\n"
     ]
    }
   ],
   "source": [
    "a = np.array([[1, 3, 2, 0, 2], [10, 5, 5, 2, 6]])\n",
    "print(\"Array:\\n \", a)\n",
    "print(\"Minimum value across columns: \", a.min(axis=-1))\n",
    "print(\"Mean across all dimensions: \", a.mean())"
   ]
  },
  {
   "cell_type": "markdown",
   "metadata": {},
   "source": [
    "## 3. Handling multi-dimensional data (with more options) with Pandas\n"
   ]
  },
  {
   "cell_type": "code",
   "execution_count": 48,
   "metadata": {},
   "outputs": [
    {
     "data": {
      "text/html": [
       "<div>\n",
       "<style scoped>\n",
       "    .dataframe tbody tr th:only-of-type {\n",
       "        vertical-align: middle;\n",
       "    }\n",
       "\n",
       "    .dataframe tbody tr th {\n",
       "        vertical-align: top;\n",
       "    }\n",
       "\n",
       "    .dataframe thead th {\n",
       "        text-align: right;\n",
       "    }\n",
       "</style>\n",
       "<table border=\"1\" class=\"dataframe\">\n",
       "  <thead>\n",
       "    <tr style=\"text-align: right;\">\n",
       "      <th></th>\n",
       "      <th>0</th>\n",
       "      <th>1</th>\n",
       "      <th>2</th>\n",
       "      <th>3</th>\n",
       "      <th>4</th>\n",
       "      <th>5</th>\n",
       "      <th>6</th>\n",
       "    </tr>\n",
       "  </thead>\n",
       "  <tbody>\n",
       "    <tr>\n",
       "      <th>0</th>\n",
       "      <td>0.793329</td>\n",
       "      <td>0.337908</td>\n",
       "      <td>0.380384</td>\n",
       "      <td>0.033518</td>\n",
       "      <td>0.198487</td>\n",
       "      <td>0.380001</td>\n",
       "      <td>0.438908</td>\n",
       "    </tr>\n",
       "    <tr>\n",
       "      <th>1</th>\n",
       "      <td>0.012718</td>\n",
       "      <td>0.310516</td>\n",
       "      <td>0.427287</td>\n",
       "      <td>0.123414</td>\n",
       "      <td>0.331358</td>\n",
       "      <td>0.915896</td>\n",
       "      <td>0.407620</td>\n",
       "    </tr>\n",
       "    <tr>\n",
       "      <th>2</th>\n",
       "      <td>0.915002</td>\n",
       "      <td>0.544574</td>\n",
       "      <td>0.619468</td>\n",
       "      <td>0.102989</td>\n",
       "      <td>0.451320</td>\n",
       "      <td>0.508073</td>\n",
       "      <td>0.167655</td>\n",
       "    </tr>\n",
       "    <tr>\n",
       "      <th>3</th>\n",
       "      <td>0.685601</td>\n",
       "      <td>0.402225</td>\n",
       "      <td>0.354264</td>\n",
       "      <td>0.732573</td>\n",
       "      <td>0.243896</td>\n",
       "      <td>0.478226</td>\n",
       "      <td>0.246439</td>\n",
       "    </tr>\n",
       "    <tr>\n",
       "      <th>4</th>\n",
       "      <td>0.548756</td>\n",
       "      <td>0.350888</td>\n",
       "      <td>0.780341</td>\n",
       "      <td>0.476442</td>\n",
       "      <td>0.345441</td>\n",
       "      <td>0.266626</td>\n",
       "      <td>0.329939</td>\n",
       "    </tr>\n",
       "  </tbody>\n",
       "</table>\n",
       "</div>"
      ],
      "text/plain": [
       "          0         1         2         3         4         5         6\n",
       "0  0.793329  0.337908  0.380384  0.033518  0.198487  0.380001  0.438908\n",
       "1  0.012718  0.310516  0.427287  0.123414  0.331358  0.915896  0.407620\n",
       "2  0.915002  0.544574  0.619468  0.102989  0.451320  0.508073  0.167655\n",
       "3  0.685601  0.402225  0.354264  0.732573  0.243896  0.478226  0.246439\n",
       "4  0.548756  0.350888  0.780341  0.476442  0.345441  0.266626  0.329939"
      ]
     },
     "execution_count": 48,
     "metadata": {},
     "output_type": "execute_result"
    }
   ],
   "source": [
    "import pandas as pd\n",
    "\n",
    "df = pd.DataFrame(np.random.random(size=(100, 7)))\n",
    "df.head()"
   ]
  },
  {
   "cell_type": "markdown",
   "metadata": {},
   "source": [
    "We can add column names:"
   ]
  },
  {
   "cell_type": "code",
   "execution_count": 50,
   "metadata": {},
   "outputs": [
    {
     "data": {
      "text/html": [
       "<div>\n",
       "<style scoped>\n",
       "    .dataframe tbody tr th:only-of-type {\n",
       "        vertical-align: middle;\n",
       "    }\n",
       "\n",
       "    .dataframe tbody tr th {\n",
       "        vertical-align: top;\n",
       "    }\n",
       "\n",
       "    .dataframe thead th {\n",
       "        text-align: right;\n",
       "    }\n",
       "</style>\n",
       "<table border=\"1\" class=\"dataframe\">\n",
       "  <thead>\n",
       "    <tr style=\"text-align: right;\">\n",
       "      <th></th>\n",
       "      <th>Column 1</th>\n",
       "      <th>Column 2</th>\n",
       "      <th>Column 3</th>\n",
       "      <th>Column 4</th>\n",
       "      <th>Column 5</th>\n",
       "      <th>Column 6</th>\n",
       "      <th>Column 7</th>\n",
       "    </tr>\n",
       "  </thead>\n",
       "  <tbody>\n",
       "    <tr>\n",
       "      <th>0</th>\n",
       "      <td>0.793329</td>\n",
       "      <td>0.337908</td>\n",
       "      <td>0.380384</td>\n",
       "      <td>0.033518</td>\n",
       "      <td>0.198487</td>\n",
       "      <td>0.380001</td>\n",
       "      <td>0.438908</td>\n",
       "    </tr>\n",
       "    <tr>\n",
       "      <th>1</th>\n",
       "      <td>0.012718</td>\n",
       "      <td>0.310516</td>\n",
       "      <td>0.427287</td>\n",
       "      <td>0.123414</td>\n",
       "      <td>0.331358</td>\n",
       "      <td>0.915896</td>\n",
       "      <td>0.407620</td>\n",
       "    </tr>\n",
       "    <tr>\n",
       "      <th>2</th>\n",
       "      <td>0.915002</td>\n",
       "      <td>0.544574</td>\n",
       "      <td>0.619468</td>\n",
       "      <td>0.102989</td>\n",
       "      <td>0.451320</td>\n",
       "      <td>0.508073</td>\n",
       "      <td>0.167655</td>\n",
       "    </tr>\n",
       "    <tr>\n",
       "      <th>3</th>\n",
       "      <td>0.685601</td>\n",
       "      <td>0.402225</td>\n",
       "      <td>0.354264</td>\n",
       "      <td>0.732573</td>\n",
       "      <td>0.243896</td>\n",
       "      <td>0.478226</td>\n",
       "      <td>0.246439</td>\n",
       "    </tr>\n",
       "    <tr>\n",
       "      <th>4</th>\n",
       "      <td>0.548756</td>\n",
       "      <td>0.350888</td>\n",
       "      <td>0.780341</td>\n",
       "      <td>0.476442</td>\n",
       "      <td>0.345441</td>\n",
       "      <td>0.266626</td>\n",
       "      <td>0.329939</td>\n",
       "    </tr>\n",
       "  </tbody>\n",
       "</table>\n",
       "</div>"
      ],
      "text/plain": [
       "   Column 1  Column 2  Column 3  Column 4  Column 5  Column 6  Column 7\n",
       "0  0.793329  0.337908  0.380384  0.033518  0.198487  0.380001  0.438908\n",
       "1  0.012718  0.310516  0.427287  0.123414  0.331358  0.915896  0.407620\n",
       "2  0.915002  0.544574  0.619468  0.102989  0.451320  0.508073  0.167655\n",
       "3  0.685601  0.402225  0.354264  0.732573  0.243896  0.478226  0.246439\n",
       "4  0.548756  0.350888  0.780341  0.476442  0.345441  0.266626  0.329939"
      ]
     },
     "execution_count": 50,
     "metadata": {},
     "output_type": "execute_result"
    }
   ],
   "source": [
    "df.columns = [f\"Column {i}\" for i in range(1, 8)]\n",
    "df.head()"
   ]
  },
  {
   "cell_type": "markdown",
   "metadata": {},
   "source": [
    "Let's switch to something more interesting that a randomly generated dataset. We can import datasets from a file and store them in Pandas DataFrames:"
   ]
  },
  {
   "cell_type": "markdown",
   "metadata": {},
   "source": [
    "pd.load_csv()"
   ]
  },
  {
   "cell_type": "markdown",
   "metadata": {},
   "source": [
    "Pandas is built on top of NumPy. This means that the values in the dataframe are stored in NumPy arrays, and therefore we can access all the attributes and methods that we saw before! Isn't that awesome?"
   ]
  },
  {
   "cell_type": "code",
   "execution_count": 54,
   "metadata": {},
   "outputs": [
    {
     "name": "stdout",
     "output_type": "stream",
     "text": [
      "<class 'numpy.ndarray'>\n"
     ]
    }
   ],
   "source": [
    "print(type(df[\"Column 2\"].values))"
   ]
  },
  {
   "cell_type": "code",
   "execution_count": null,
   "metadata": {},
   "outputs": [],
   "source": [
    "print(\"Mean \")"
   ]
  }
 ],
 "metadata": {
  "kernelspec": {
   "display_name": ".venv",
   "language": "python",
   "name": "python3"
  },
  "language_info": {
   "codemirror_mode": {
    "name": "ipython",
    "version": 3
   },
   "file_extension": ".py",
   "mimetype": "text/x-python",
   "name": "python",
   "nbconvert_exporter": "python",
   "pygments_lexer": "ipython3",
   "version": "3.11.11"
  }
 },
 "nbformat": 4,
 "nbformat_minor": 2
}
