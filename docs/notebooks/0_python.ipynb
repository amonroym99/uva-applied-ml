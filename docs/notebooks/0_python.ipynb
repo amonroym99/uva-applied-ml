{
 "cells": [
  {
   "cell_type": "markdown",
   "metadata": {},
   "source": [
    "# Tutorial 0: Python warm-up\n",
    "\n",
    "[![View notebooks on Github](https://img.shields.io/static/v1.svg?logo=github&label=Repo&message=View%20On%20Github&color=lightgrey)](https://github.com/phlippe/uvadlc_notebooks/blob/master/docs/tutorial_notebooks/tutorial10/Adversarial_Attacks.ipynb)\n",
    "\n",
    "**Author:** Alejandro Monroy"
   ]
  },
  {
   "cell_type": "markdown",
   "metadata": {},
   "source": [
    "In this tutorial we will revise some of the Python programming skills that are necessary for the course. We will cover basic Python functionalities as well as NumPy, Pandas and Matplotlib."
   ]
  },
  {
   "cell_type": "markdown",
   "metadata": {},
   "source": [
    "❗️ _**Note:** This tutorial is not meant to be a self-contained guide to learn the concepts from scratch, but a brief recap of the tools that you need to know to be able to understand the rest of the tutorials. If you feel like you need a deeper level of detail, we invite you to check out the additional resources at the end of each section._"
   ]
  },
  {
   "cell_type": "markdown",
   "metadata": {},
   "source": [
    "## 1. Python basics"
   ]
  },
  {
   "cell_type": "markdown",
   "metadata": {},
   "source": [
    "### 1.1. Primitive Data Types\n",
    "\n",
    "Python supports the usual primitive data types:\n",
    "\n",
    "- **Integers (`int`)**: Whole numbers, e.g., `1`, `42`, `-7`.\n",
    "- **Floating-point numbers (`float`)**: Numbers with decimal points, e.g., `3.14`, `-0.001`.\n",
    "- **Strings (`str`)**: Sequences of characters, e.g., `\"hello\"`, `\"Python\"`.\n",
    "- **Booleans (`bool`)**: Logical values representing `True` or `False`.\n",
    "\n",
    "These primitive data types are essential for performing basic operations and storing simple values in Python."
   ]
  },
  {
   "cell_type": "code",
   "execution_count": 1,
   "metadata": {},
   "outputs": [
    {
     "name": "stdout",
     "output_type": "stream",
     "text": [
      "x =  10\n",
      "Type of x:  <class 'int'>\n",
      "\n",
      "y =  3.14\n",
      "Type of y:  <class 'float'>\n",
      "\n",
      "name =  Alice\n",
      "Type of name:  <class 'str'>\n",
      "\n",
      "condition_1 =  False\n",
      "Type of condition_1:  <class 'bool'>\n",
      "condition_2 =  True\n",
      "Type of condition_2:  <class 'bool'>\n"
     ]
    }
   ],
   "source": [
    "# Integer\n",
    "x = 10\n",
    "print(\"x = \", x)\n",
    "print(\"Type of x: \", type(x))\n",
    "\n",
    "# Float\n",
    "y = 3.14\n",
    "print(\"\\ny = \", y)\n",
    "print(\"Type of y: \", type(y))\n",
    "\n",
    "# String\n",
    "name = \"Alice\"\n",
    "print(\"\\nname = \", name)\n",
    "print(\"Type of name: \", type(name))\n",
    "\n",
    "# Boolean\n",
    "condition_1 = x == 11\n",
    "print(\"\\ncondition_1 = \", condition_1)\n",
    "print(\"Type of condition_1: \", type(condition_1))\n",
    "condition_2 = x <= 11\n",
    "print(\"condition_2 = \", condition_2)\n",
    "print(\"Type of condition_2: \", type(condition_2))"
   ]
  },
  {
   "cell_type": "markdown",
   "metadata": {},
   "source": [
    "### 1.2. Mathematical Operations\n",
    "\n",
    "Python supports various basic mathematical operations:\n",
    "\n",
    "- **Basic Arithmetic**: `+` (addition), `-` (subtraction), `*` (multiplication), `/` (division).\n",
    "- **Exponentiation**: `**` (power), e.g., `2 ** 3` results in `8`.\n",
    "- **Modulus**: `%` (remainder), e.g., `10 % 3` results in `1`.\n",
    "- **Floor Division**: `//` (integer division), e.g., `10 // 3` results in `3`."
   ]
  },
  {
   "cell_type": "markdown",
   "metadata": {},
   "source": [
    "### 1.3. Control Structures\n",
    "\n",
    "Control structures dictate the flow of execution in a program:\n",
    "\n",
    "- **Conditional Statements**: `if`, `elif`, `else` for decision making.\n",
    "- **Loops**: `for` to iterate over sequences, `while` to repeat as long as a condition is true."
   ]
  },
  {
   "cell_type": "code",
   "execution_count": 2,
   "metadata": {},
   "outputs": [
    {
     "name": "stdout",
     "output_type": "stream",
     "text": [
      "The number is divisible by both 3 and 5\n"
     ]
    }
   ],
   "source": [
    "# Example code to check if a number is divisible by 3, 5, or neither\n",
    "number = 15\n",
    "\n",
    "if number % 3 == 0 and number % 5 == 0:\n",
    "    print(\"The number is divisible by both 3 and 5\")\n",
    "elif number % 3 == 0:\n",
    "    print(\"The number is divisible by 3\")\n",
    "elif number % 5 == 0:\n",
    "    print(\"The number is divisible by 5\")\n",
    "else:\n",
    "    print(\"The number is not divisible by 3 or 5\")\n"
   ]
  },
  {
   "cell_type": "code",
   "execution_count": 3,
   "metadata": {},
   "outputs": [
    {
     "name": "stdout",
     "output_type": "stream",
     "text": [
      "6\n",
      "12\n",
      "18\n",
      "24\n"
     ]
    }
   ],
   "source": [
    "# Example code that prints all integers between 1 and 30 that are divisible by 2 and 3\n",
    "for num in range(1, 30):\n",
    "    if num % 2 == 0 and num % 3 == 0:\n",
    "        print(num)"
   ]
  },
  {
   "cell_type": "markdown",
   "metadata": {},
   "source": [
    "### 1.4. Collections\n",
    "\n",
    "Python provides several built-in collection types to store and manage groups of related data. Each collection type has unique characteristics and use cases. The basic collection types are lists, tuples, sets, and dictionaries:\n",
    "\n",
    "| Collection Type | Mutable | Ordered | Duplicate Elements | Syntax Example          |\n",
    "|-----------------|:---------:|:---------:|:--------------------:|-------------------------|\n",
    "| List            | ✔️      | ✔️      | ✔️                 | `[1, 2, 3]`             |\n",
    "| Tuple           | ❌      | ✔️      | ✔️                 | `(1, 2, 3)`             |\n",
    "| Set             | ✔️      | ❌      | ❌                 | `{1, 2, 3}`             |\n",
    "| Dictionary      | ✔️      | ❌      | Keys: ❌, Values: ✔️ | `{\"a\": 1, \"b\": 2}` |\n",
    "\n",
    "- **Mutable**: Indicates whether the collection can be modified after creation. Mutable collections (like lists and dictionaries) allow adding, removing, or changing elements. Immutable collections (like tuples) do not allow any modifications after creation.\n",
    "- **Ordered**: Indicates whether the elements in the collection maintain a specific order. Ordered collections (like lists and tuples) preserve the order of elements as they were added. Unordered collections (like sets and dictionaries) do not guarantee any specific order.\n",
    "- **Duplicate Elements**: Indicates whether the collection allows duplicate elements. Collections that allow duplicates (like lists and tuples) can contain multiple instances of the same value. Collections that do not allow duplicates (like sets) ensure all elements are unique."
   ]
  },
  {
   "cell_type": "markdown",
   "metadata": {},
   "source": [
    "There are different ways to create collections. We will compare some of these ways in the following examples:"
   ]
  },
  {
   "cell_type": "code",
   "execution_count": 4,
   "metadata": {},
   "outputs": [
    {
     "name": "stdout",
     "output_type": "stream",
     "text": [
      "[1, 2, 4, 8, 16, 32, 64, 128, 256, 512]\n",
      "[1, 2, 4, 8, 16, 32, 64, 128, 256, 512]\n",
      "[1, 2, 4, 8, 16, 32, 64, 128, 256, 512]\n"
     ]
    }
   ],
   "source": [
    "# Example code to define a list with the first 10 powers of 10 in different ways\n",
    "\n",
    "# By extension\n",
    "l1 = [1, 2, 4, 8, 16, 32, 64, 128, 256, 512]\n",
    "\n",
    "# Using a for loop\n",
    "l2 = []\n",
    "for i in range(10):\n",
    "    l2.append(2**i)\n",
    "\n",
    "# Using list comprehension\n",
    "l3 = [2**i for i in range(10)]\n",
    "\n",
    "print(l1)\n",
    "print(l2)\n",
    "print(l3)\n",
    "\n",
    "# Check if all lists are equal\n",
    "assert l1 == l2 == l3"
   ]
  },
  {
   "cell_type": "code",
   "execution_count": 5,
   "metadata": {},
   "outputs": [
    {
     "name": "stdout",
     "output_type": "stream",
     "text": [
      "{0: 1, 1: 2, 2: 4, 3: 8, 4: 16, 5: 32, 6: 64, 7: 128, 8: 256, 9: 512}\n",
      "{0: 1, 1: 2, 2: 4, 3: 8, 4: 16, 5: 32, 6: 64, 7: 128, 8: 256, 9: 512}\n",
      "{0: 1, 1: 2, 2: 4, 3: 8, 4: 16, 5: 32, 6: 64, 7: 128, 8: 256, 9: 512}\n"
     ]
    }
   ],
   "source": [
    "# Example code to define a dictionary where the keys are the integers from 0 to 9 and the values the corresponding power of 2\n",
    "\n",
    "# By extension\n",
    "d1 = {0: 1, 1: 2, 2: 4, 3: 8, 4: 16, 5: 32, 6: 64, 7: 128, 8: 256, 9: 512}\n",
    "\n",
    "# Using a for loop\n",
    "d2 = {i: 2**i for i in range(10)}\n",
    "for i in range(10):\n",
    "    d2[i] = 2**i\n",
    "\n",
    "# Using dictionary comprehension\n",
    "d3 = {i: 2**i for i in range(10)}\n",
    "\n",
    "print(d1)\n",
    "print(d2)\n",
    "print(d3)\n",
    "\n",
    "# Check if all dictionaries are equal\n",
    "assert d1 == d2 == d3"
   ]
  },
  {
   "cell_type": "markdown",
   "metadata": {},
   "source": [
    "💡 _**Note:** In the previous cells we used an `assert` statement. The `assert` statement is used for debugging purposes. It tests a condition, and if the condition is `False`, it raises an `AssertionError` with an optional error message. This helps in identifying and fixing bugs by ensuring that certain conditions hold true during the execution of the program. In this case, we include it to make sure/show that the three lists are indeed equal!_"
   ]
  },
  {
   "cell_type": "markdown",
   "metadata": {},
   "source": [
    "### 1.5. Functions\n",
    "A Python function is a block of reusable code that performs a specific task. It can take inputs (called parameters), execute a series of statements, and return an output. Functions help in organizing code, making it more readable and reusable."
   ]
  },
  {
   "cell_type": "code",
   "execution_count": 6,
   "metadata": {},
   "outputs": [
    {
     "data": {
      "text/plain": [
       "'Hello, Alex! How are you today?'"
      ]
     },
     "execution_count": 6,
     "metadata": {},
     "output_type": "execute_result"
    }
   ],
   "source": [
    "# Example of Python function\n",
    "def greet(name):\n",
    "    \"\"\"\n",
    "    Greets a person by printing a personalized message including their name.\n",
    "\n",
    "    Args:\n",
    "        name (str): The name of the person to greet.\n",
    "\n",
    "    Returns:\n",
    "        str: Personalized greeting message.\n",
    "    \"\"\"\n",
    "    return f\"Hello, {name}! How are you today?\"\n",
    "\n",
    "# Example usage\n",
    "greet(\"Alex\")"
   ]
  },
  {
   "cell_type": "markdown",
   "metadata": {},
   "source": [
    "💡 _**Tip:** If you are going to use some piece of code more than once, it is usually a good practice to encapsulate it into a function. This promotes code reusability, reduces redundancy, improves readability, and makes maintenance easier._"
   ]
  },
  {
   "cell_type": "markdown",
   "metadata": {},
   "source": [
    "### 1.6. Classes\n",
    "A Python class is a blueprint for creating objects. It defines a set of attributes and methods that the created objects will have. Classes allow for object-oriented programming, which helps in organizing code into reusable and related components."
   ]
  },
  {
   "cell_type": "code",
   "execution_count": 7,
   "metadata": {},
   "outputs": [
    {
     "name": "stdout",
     "output_type": "stream",
     "text": [
      "Hello, Alex! You are 25 years old. How are you today?\n",
      "Hello, Alex! You are 26 years old. How are you today?\n"
     ]
    }
   ],
   "source": [
    "# Example of Python class\n",
    "class Person:\n",
    "    \"\"\"\n",
    "    A class used to represent a person with a name and age, and to greet them with a personalized message.\n",
    "    \"\"\"\n",
    "\n",
    "    def __init__(self, name, age):\n",
    "        \"\"\"\n",
    "        Initializes a new instance of the Person class.\n",
    "\n",
    "        Args:\n",
    "            name (str): The name of the person.\n",
    "            age (int): The age of the person.\n",
    "        \"\"\"\n",
    "        self.name = name\n",
    "        self.age = age\n",
    "\n",
    "    def birthday(self):\n",
    "        \"\"\"\n",
    "        Increments the age of the person by 1.\n",
    "        \"\"\"\n",
    "        self.age += 1\n",
    "\n",
    "    def greet(self):\n",
    "        \"\"\"\n",
    "        Greets the person by returning a personalized message including their name and age.\n",
    "\n",
    "        Returns:\n",
    "            str: Personalized greeting message.\n",
    "        \"\"\"\n",
    "        return f\"Hello, {self.name}! You are {self.age} years old. How are you today?\"\n",
    "\n",
    "# Example usage\n",
    "alex = Person(\"Alex\", 25)\n",
    "print(alex.greet())\n",
    "alex.birthday()\n",
    "print(alex.greet())"
   ]
  },
  {
   "cell_type": "markdown",
   "metadata": {},
   "source": [
    "💡 _**Tip:** It is a good practice to add docstrings after the definition of a class, function or method. This will help other people (and yourself) understand what the code does and how to use it. There are several popular docstring styles in Python, here we are using the [Google format](https://github.com/google/styleguide/blob/gh-pages/pyguide.md#38-comments-and-docstrings)._"
   ]
  },
  {
   "cell_type": "markdown",
   "metadata": {},
   "source": [
    "## 2. Handling multi-dimensional data with Numpy\n",
    "\n",
    "NumPy is a powerful library for numerical computing in Python. It provides support for large, multi-dimensional arrays and matrices, along with mathematical functions to operate on these arrays efficiently. NumPy is widely used in data science, machine learning, and scientific computing due to its ease of use and performance benefits."
   ]
  },
  {
   "cell_type": "markdown",
   "metadata": {},
   "source": [
    "### 2.1. Numpy arrays\n",
    "\n",
    "The main building block of NumPy is the `ndarray` class, which stands for N-dimensional array:"
   ]
  },
  {
   "cell_type": "code",
   "execution_count": 8,
   "metadata": {},
   "outputs": [
    {
     "name": "stdout",
     "output_type": "stream",
     "text": [
      "[1 2 3 4 5 6]\n",
      "[[1. 2. 3.]\n",
      " [4. 5. 6.]]\n"
     ]
    }
   ],
   "source": [
    "import numpy as np\n",
    "\n",
    "# Example of numpy arrays\n",
    "# 1D array\n",
    "a = np.array([1, 2, 3, 4, 5, 6])\n",
    "print(a)\n",
    "# 2D array\n",
    "b = np.array([[1, 2, 3], [4, 5, 6]], dtype=np.float32)\n",
    "print(b)\n"
   ]
  },
  {
   "cell_type": "markdown",
   "metadata": {},
   "source": [
    "\n",
    "These are some of the most important attributes of numpy arrays:\n",
    "\n",
    "| Attribute                        | Description                                                                 |\n",
    "|-------------------------------|-----------------------------------------------------------------------------|\n",
    "| `ndarray.shape`               | Shape (dimensions) of the array.                                |\n",
    "| `ndarray.dtype`               | Data type of the array elements.                                |\n",
    "| `ndarray.ndim`                | Number of dimensions of the array.                              |\n",
    "| `ndarray.size`                | Number of elements in the array.                          |\n",
    "| `ndarray.T`                   | Transpose of the array.                                         |"
   ]
  },
  {
   "cell_type": "code",
   "execution_count": 9,
   "metadata": {},
   "outputs": [
    {
     "name": "stdout",
     "output_type": "stream",
     "text": [
      "Array:\n",
      " [1 2 3 4 5 6]\n",
      "Shape: (6,)\n",
      "Number of dimensions:  1\n",
      "Number of elements:  6\n",
      "Data type:  int64\n",
      "Transpose: [1 2 3 4 5 6]\n",
      "\n",
      "Array:\n",
      " [[1. 2. 3.]\n",
      " [4. 5. 6.]]\n",
      "Shape: (2, 3)\n",
      "Number of dimensions:  2\n",
      "Number of elements:  6\n",
      "Data type: float32\n",
      "Transpose: [[1. 4.]\n",
      " [2. 5.]\n",
      " [3. 6.]]\n"
     ]
    }
   ],
   "source": [
    "print(\"Array:\\n\", a)\n",
    "print(\"Shape:\", a.shape)\n",
    "print(\"Number of dimensions: \", a.ndim)\n",
    "print(\"Number of elements: \", a.size)\n",
    "print(\"Data type: \", a.dtype)\n",
    "print(\"Transpose:\", a.T)\n",
    "\n",
    "print(\"\\nArray:\\n\", b)\n",
    "print(\"Shape:\", b.shape)\n",
    "print(\"Number of dimensions: \", b.ndim)\n",
    "print(\"Number of elements: \", b.size)\n",
    "print(\"Data type:\", b.dtype)\n",
    "print(\"Transpose:\", b.T)"
   ]
  },
  {
   "cell_type": "markdown",
   "metadata": {},
   "source": [
    "💡 _**Tip:** We are using a class (`ndarray`) that we imported from a library (`numpy`). To know how to use imported classes/functions/methods, we can check their documentation online (by just googling its name) or offline (for example, try to run a code cell with the line `np.ndarray?`, and you will see that the output contains information about the attributes that we just explained). Being able to access and understand documentation from libraries is crucial to become a good programmer!_"
   ]
  },
  {
   "cell_type": "markdown",
   "metadata": {},
   "source": [
    "### 2.2. Elemental operations between numpy arrays\n",
    "\n",
    "Numpy arrays support elemental operations. These are some examples:"
   ]
  },
  {
   "cell_type": "code",
   "execution_count": 10,
   "metadata": {},
   "outputs": [
    {
     "name": "stdout",
     "output_type": "stream",
     "text": [
      "Addition of u1 and u2: [3 6 9]\n",
      "Subtraction of u1 and u2: [-1 -2 -3]\n",
      "Multiplication of u1 by a constant: [ 5 10 15]\n",
      "Element-wise multiplication of u1 and u2: [ 2  8 18]\n",
      "Element-wise division of u1 and u2: [0.5 0.5 0.5]\n"
     ]
    }
   ],
   "source": [
    "### Operations between numpy arrays\n",
    "u1 = np.array([1, 2, 3])\n",
    "u2 = np.array([2, 4, 6])\n",
    "\n",
    "print(\"Addition of u1 and u2:\", u1 + u2)\n",
    "print(\"Subtraction of u1 and u2:\", u1 - u2)\n",
    "print(\"Multiplication of u1 by a constant:\", 5 * u1)\n",
    "print(\"Element-wise multiplication of u1 and u2:\", u1 * u2)\n",
    "print(\"Element-wise division of u1 and u2:\", u1 / u2)"
   ]
  },
  {
   "cell_type": "markdown",
   "metadata": {},
   "source": [
    "Another commonly used vector operation is the dot product. Mathematically, the dot product (denoted with $\\cdot$) of two vectors $a = [a_1, a_2, ..., a_N]$, $b = [b_1, b_2, ..., b_N]$ is\n",
    "$$\n",
    "a \\cdot b = a_1b_1 + a_2b_2 + ... + a_Nb_N.\n",
    "$$\n",
    "\n",
    "Notice that:\n",
    "- The input is two vectors, but the output is a single scalar!\n",
    "- Both input vectors need to have the same length"
   ]
  },
  {
   "cell_type": "code",
   "execution_count": 11,
   "metadata": {},
   "outputs": [
    {
     "name": "stdout",
     "output_type": "stream",
     "text": [
      "Dot product of u1 and u2: 28\n"
     ]
    }
   ],
   "source": [
    "print(\"Dot product of u1 and u2:\", np.dot(u1, u2))"
   ]
  },
  {
   "cell_type": "markdown",
   "metadata": {},
   "source": [
    "📝 _**Task for you:** Apply the formula above by hand and check that the result we got is indeed correct!_"
   ]
  },
  {
   "cell_type": "markdown",
   "metadata": {},
   "source": [
    "We can also have higher-dimensional arrays, which can be used to represent matrices. The element-wise operations that we saw before also apply in this case. Now, we also perform matrix multiplication using the `@` operator or `np.matmul`:"
   ]
  },
  {
   "cell_type": "code",
   "execution_count": 12,
   "metadata": {},
   "outputs": [
    {
     "name": "stdout",
     "output_type": "stream",
     "text": [
      "Addition of m1 and m2:\n",
      " [[ 3  6]\n",
      " [ 9 12]]\n",
      "Multiplication of m1 and m2:\n",
      " [[14 20]\n",
      " [30 44]]\n",
      "Multiplication of m1 and m2:\n",
      " [[14 20]\n",
      " [30 44]]\n"
     ]
    }
   ],
   "source": [
    "m1 = np.array([[1, 2], [3, 4]])\n",
    "m2 = np.array([[2, 4], [6, 8]])\n",
    "print(\"Addition of m1 and m2:\\n\", m1 + m2)\n",
    "print(\"Multiplication of m1 and m2:\\n\", np.matmul(m1, m2))\n",
    "print(\"Multiplication of m1 and m2:\\n\", m1 @ m2)"
   ]
  },
  {
   "cell_type": "markdown",
   "metadata": {},
   "source": [
    "### 2.3. Important metohds of numpy arrays\n",
    "\n",
    "#### Array Manipulation\n",
    "\n",
    "| Method                        | Description                                                                 |\n",
    "|-------------------------------|-----------------------------------------------------------------------------|\n",
    "| `ndarray.reshape(newshape)`   | Returns a new array with the same data but a new shape.                     |\n",
    "| `ndarray.flatten()`           | Returns a copy of the array collapsed into one dimension.                   |\n",
    "| `ndarray.sort(axis=-1)`       | Sorts the array along the specified axis.                                   |\n",
    "| `ndarray.concatenate((a1, a2, ...), axis=0)` | Joins a sequence of arrays along an existing axis.         |\n"
   ]
  },
  {
   "cell_type": "code",
   "execution_count": 13,
   "metadata": {},
   "outputs": [
    {
     "name": "stdout",
     "output_type": "stream",
     "text": [
      "Array:\n",
      "  [[1 2 3]\n",
      " [4 5 6]]\n",
      "Shape:  (2, 3)\n",
      "\n",
      "Flattened array:\n",
      " [1 2 3 4 5 6]\n",
      "Shape of flattened array:  (6,)\n"
     ]
    }
   ],
   "source": [
    "a = np.array([[1, 2, 3], [4, 5, 6]])\n",
    "print(\"Array:\\n \", a)\n",
    "print(\"Shape: \", a.shape)\n",
    "\n",
    "# The following method turns the array into a 1D array with the same elements\n",
    "a_flattened = a.flatten()\n",
    "print(\"\\nFlattened array:\\n\", a_flattened)\n",
    "print(\"Shape of flattened array: \", a_flattened.shape)\n"
   ]
  },
  {
   "cell_type": "markdown",
   "metadata": {},
   "source": [
    "💡 _**Tip:** Again, check out the documentation for the `numpy` methods that we use! For example, try running `np.ndarray.flatten?` to see its docstrig and some usage examples._"
   ]
  },
  {
   "cell_type": "markdown",
   "metadata": {},
   "source": [
    "#### Mathematical Operations\n",
    "| Method                        | Description                                                                 |\n",
    "|-------------------------------|-----------------------------------------------------------------------------|\n",
    "| `ndarray.dot(b)`              | Returns the dot product of the array and the one in the argument            |\n",
    "| `ndarray.sum(axis=None)`      | Returns the sum of the array elements over the specified axis.              |\n",
    "| `ndarray.prod(axis=None)`     | Returns the product of the array elements over the specified axis.          |\n",
    "| `ndarray.cumsum(axis=None)`   | Returns the cumulative sum of the array elements over the specified axis.   |\n",
    "| `ndarray.cumprod(axis=None)`  | Returns the cumulative product of the array elements over the specified axis.|"
   ]
  },
  {
   "cell_type": "code",
   "execution_count": 14,
   "metadata": {},
   "outputs": [
    {
     "name": "stdout",
     "output_type": "stream",
     "text": [
      "Array:\n",
      "  [[2 2 2 2]\n",
      " [3 3 3 3]]\n",
      "Sum of the array across columns:  [5 5 5 5]\n",
      "Sum of the array across all dimensions:  20\n",
      "Product of the array across rows:;  [16 81]\n"
     ]
    }
   ],
   "source": [
    "a = np.array([[2, 2, 2, 2], [3, 3, 3, 3]])\n",
    "print(\"Array:\\n \", a)\n",
    "\n",
    "print(\"Sum of the array across columns: \", a.sum(axis=0)) # axis=0 means aggregate along the first dimesion\n",
    "print(\"Sum of the array across all dimensions: \", a.sum())\n",
    "print(\"Product of the array across rows:; \", a.prod(axis=-1)) # axis=1 means aggregate along the second dimesion"
   ]
  },
  {
   "cell_type": "markdown",
   "metadata": {},
   "source": [
    "🤔 _**Food for thought:** Why did we use `axis = -1` in the last example? What would be an equivalent value for the axis in that case?_ "
   ]
  },
  {
   "cell_type": "markdown",
   "metadata": {},
   "source": [
    "#### Statistical Methods\n",
    "| Method                        | Description                                                                 |\n",
    "|-------------------------------|-----------------------------------------------------------------------------|\n",
    "| `ndarray.mean(axis=None)`     | Returns the mean of the array elements over the specified axis.             |\n",
    "| `ndarray.std(axis=None)`      | Returns the standard deviation of the array elements over the specified axis.|\n",
    "| `ndarray.var(axis=None)`      | Returns the variance of the array elements over the specified axis.         |\n",
    "| `ndarray.min(axis=None)`      | Returns the minimum value of the array elements over the specified axis.    |\n",
    "| `ndarray.max(axis=None)`      | Returns the maximum value of the array elements over the specified axis.    |\n",
    "| `ndarray.argmin(axis=None)`   | Returns the indices of the minimum values along an axis.                   |\n",
    "| `ndarray.argmax(axis=None)`   | Returns the indices of the maximum values along an axis.                   |"
   ]
  },
  {
   "cell_type": "code",
   "execution_count": 15,
   "metadata": {},
   "outputs": [
    {
     "name": "stdout",
     "output_type": "stream",
     "text": [
      "Array:\n",
      "  [[ 1  3  2  0  2]\n",
      " [10  5  5  2  6]]\n",
      "Minimum value across columns:  [0 2]\n",
      "Mean across all dimensions:  3.6\n"
     ]
    }
   ],
   "source": [
    "a = np.array([[1, 3, 2, 0, 2], [10, 5, 5, 2, 6]])\n",
    "print(\"Array:\\n \", a)\n",
    "print(\"Minimum value across columns: \", a.min(axis=-1))\n",
    "print(\"Mean across all dimensions: \", a.mean())"
   ]
  },
  {
   "cell_type": "markdown",
   "metadata": {},
   "source": [
    "🚀 _**Further reading:** We invite you to check out this [basics guide](https://numpy.org/doc/2.2/user/absolute_beginners.html) and [quick start guide](https://numpy.org/doc/2.2/user/quickstart.html) from the official NumPy documentation for a more extensive guide with more examples._"
   ]
  },
  {
   "cell_type": "markdown",
   "metadata": {},
   "source": [
    "## 3. Handling multi-dimensional data (with more options) with Pandas\n",
    "\n",
    "Pandas is a powerful and flexible open-source data analysis and manipulation library for Python.\n",
    "\n",
    "The main building block of the library is the pandas DataFrame. A DataFrame is a 2-dimensional labeled data structure with columns of potentially different types.\n",
    "It is similar to a table in a database or an Excel spreadsheet. You can create a DataFrame from various data sources, including lists, dictionaries, and NumPy arrays or import it from a file."
   ]
  },
  {
   "cell_type": "code",
   "execution_count": 16,
   "metadata": {},
   "outputs": [
    {
     "data": {
      "text/html": [
       "<div>\n",
       "<style scoped>\n",
       "    .dataframe tbody tr th:only-of-type {\n",
       "        vertical-align: middle;\n",
       "    }\n",
       "\n",
       "    .dataframe tbody tr th {\n",
       "        vertical-align: top;\n",
       "    }\n",
       "\n",
       "    .dataframe thead th {\n",
       "        text-align: right;\n",
       "    }\n",
       "</style>\n",
       "<table border=\"1\" class=\"dataframe\">\n",
       "  <thead>\n",
       "    <tr style=\"text-align: right;\">\n",
       "      <th></th>\n",
       "      <th>Name</th>\n",
       "      <th>Gender</th>\n",
       "      <th>Age</th>\n",
       "      <th>Nationality</th>\n",
       "    </tr>\n",
       "  </thead>\n",
       "  <tbody>\n",
       "    <tr>\n",
       "      <th>0</th>\n",
       "      <td>Arnoud</td>\n",
       "      <td>F</td>\n",
       "      <td>45</td>\n",
       "      <td>Netherlands</td>\n",
       "    </tr>\n",
       "    <tr>\n",
       "      <th>1</th>\n",
       "      <td>Alex</td>\n",
       "      <td>M</td>\n",
       "      <td>25</td>\n",
       "      <td>Spain</td>\n",
       "    </tr>\n",
       "    <tr>\n",
       "      <th>2</th>\n",
       "      <td>Charlie</td>\n",
       "      <td>M</td>\n",
       "      <td>35</td>\n",
       "      <td>UK</td>\n",
       "    </tr>\n",
       "    <tr>\n",
       "      <th>3</th>\n",
       "      <td>Tycho</td>\n",
       "      <td>M</td>\n",
       "      <td>22</td>\n",
       "      <td>Netherlands</td>\n",
       "    </tr>\n",
       "    <tr>\n",
       "      <th>4</th>\n",
       "      <td>Ana</td>\n",
       "      <td>F</td>\n",
       "      <td>32</td>\n",
       "      <td>Spain</td>\n",
       "    </tr>\n",
       "    <tr>\n",
       "      <th>5</th>\n",
       "      <td>Frank</td>\n",
       "      <td>M</td>\n",
       "      <td>40</td>\n",
       "      <td>UK</td>\n",
       "    </tr>\n",
       "    <tr>\n",
       "      <th>6</th>\n",
       "      <td>Paco</td>\n",
       "      <td>F</td>\n",
       "      <td>27</td>\n",
       "      <td>Spain</td>\n",
       "    </tr>\n",
       "    <tr>\n",
       "      <th>7</th>\n",
       "      <td>Sara</td>\n",
       "      <td>M</td>\n",
       "      <td>33</td>\n",
       "      <td>Spain</td>\n",
       "    </tr>\n",
       "  </tbody>\n",
       "</table>\n",
       "</div>"
      ],
      "text/plain": [
       "      Name Gender  Age  Nationality\n",
       "0   Arnoud      F   45  Netherlands\n",
       "1     Alex      M   25        Spain\n",
       "2  Charlie      M   35           UK\n",
       "3    Tycho      M   22  Netherlands\n",
       "4      Ana      F   32        Spain\n",
       "5    Frank      M   40           UK\n",
       "6     Paco      F   27        Spain\n",
       "7     Sara      M   33        Spain"
      ]
     },
     "execution_count": 16,
     "metadata": {},
     "output_type": "execute_result"
    }
   ],
   "source": [
    "import pandas as pd\n",
    "\n",
    "# Create a dictionary with the sample data\n",
    "data = {\n",
    "    \"Name\": [\"Arnoud\", \"Alex\", \"Charlie\", \"Tycho\", \"Ana\", \"Frank\", \"Paco\", \"Sara\"],\n",
    "    \"Gender\": [\"F\", \"M\", \"M\", \"M\", \"F\", \"M\", \"F\", \"M\"],\n",
    "    \"Age\": [45, 25, 35, 22, 32, 40, 27, 33],\n",
    "    \"Nationality\": [\"Netherlands\", \"Spain\", \"UK\", \"Netherlands\", \"Spain\", \"UK\", \"Spain\", \"Spain\"]\n",
    "}\n",
    "\n",
    "# Create the dataframe\n",
    "df = pd.DataFrame(data)\n",
    "\n",
    "# Display the dataframe\n",
    "df\n"
   ]
  },
  {
   "cell_type": "markdown",
   "metadata": {},
   "source": [
    "❗️ _**Note:** Usually, we will not create a dataframe from a hardcoded collection, but we will import it from a library or from a file using functions such as `pd.read_csv()` or `pd.read_excel()`._"
   ]
  },
  {
   "cell_type": "markdown",
   "metadata": {},
   "source": [
    "These are some of the most important attributes of a DataFrame:"
   ]
  },
  {
   "cell_type": "code",
   "execution_count": 17,
   "metadata": {},
   "outputs": [
    {
     "name": "stdout",
     "output_type": "stream",
     "text": [
      "Shape of the DataFrame: (8, 4)\n",
      "Number of rows: 8\n",
      "Number of columns: 4\n",
      "Column names: ['Name', 'Gender', 'Age', 'Nationality']\n",
      "Data types of columns:\n",
      " Name           object\n",
      "Gender         object\n",
      "Age             int64\n",
      "Nationality    object\n",
      "dtype: object\n",
      "Summary statistics:\n",
      "              Age\n",
      "count   8.000000\n",
      "mean   32.375000\n",
      "std     7.707835\n",
      "min    22.000000\n",
      "25%    26.500000\n",
      "50%    32.500000\n",
      "75%    36.250000\n",
      "max    45.000000\n"
     ]
    }
   ],
   "source": [
    "print(\"Shape of the DataFrame:\", df.shape)\n",
    "print(\"Number of rows:\", len(df))\n",
    "print(\"Number of columns:\", len(df.columns))\n",
    "print(\"Column names:\", df.columns.tolist())\n",
    "print(\"Data types of columns:\\n\", df.dtypes)\n",
    "print(\"Summary statistics:\\n\", df.describe())"
   ]
  },
  {
   "cell_type": "markdown",
   "metadata": {},
   "source": [
    "We can access the columns of the dataframe with `df[<column_name>]` or `df.<column_name>`. This will return a pandas `Series`:"
   ]
  },
  {
   "cell_type": "code",
   "execution_count": 18,
   "metadata": {},
   "outputs": [
    {
     "name": "stdout",
     "output_type": "stream",
     "text": [
      "0    45\n",
      "1    25\n",
      "2    35\n",
      "3    22\n",
      "4    32\n",
      "5    40\n",
      "6    27\n",
      "7    33\n",
      "Name: Age, dtype: int64\n",
      "0    45\n",
      "1    25\n",
      "2    35\n",
      "3    22\n",
      "4    32\n",
      "5    40\n",
      "6    27\n",
      "7    33\n",
      "Name: Age, dtype: int64\n",
      "<class 'pandas.core.series.Series'>\n"
     ]
    }
   ],
   "source": [
    "print(df[\"Age\"])\n",
    "print(df.Age)\n",
    "print(type(df[\"Age\"]))"
   ]
  },
  {
   "cell_type": "markdown",
   "metadata": {},
   "source": [
    "Remember that Pandas is built on top of NumPy! We can convert a `Series` object to a `np.ndarray` by just accessing the `Series.values` attribute:"
   ]
  },
  {
   "cell_type": "code",
   "execution_count": 19,
   "metadata": {},
   "outputs": [
    {
     "name": "stdout",
     "output_type": "stream",
     "text": [
      "[45 25 35 22 32 40 27 33]\n",
      "<class 'numpy.ndarray'>\n"
     ]
    }
   ],
   "source": [
    "print(df.Age.values)\n",
    "print(type(df.Age.values))"
   ]
  },
  {
   "cell_type": "markdown",
   "metadata": {},
   "source": [
    "We can use the Numpy methods we saw before on objects of the `Series` class (apart from some others that are only implemented on Pandas, such as `.mode()`):"
   ]
  },
  {
   "cell_type": "code",
   "execution_count": 20,
   "metadata": {},
   "outputs": [
    {
     "name": "stdout",
     "output_type": "stream",
     "text": [
      "Mean of Age column:  32.375\n",
      "Mode of Nationality column:  Spain\n"
     ]
    }
   ],
   "source": [
    "print(\"Mean of Age column: \", df.Age.mean())\n",
    "print(\"Mode of Nationality column: \", df.Nationality.mode().values[0])"
   ]
  },
  {
   "cell_type": "markdown",
   "metadata": {},
   "source": [
    "🚀 _**Further reading:** We invite you to check out this [quick start guide](https://matplotlib.org/stable/users/explain/quick_start.html) from the official Pandas documentation for a more extensive tutorial on Pandas._"
   ]
  },
  {
   "cell_type": "markdown",
   "metadata": {},
   "source": [
    "## 4. Making awesome plots with Matplotlib"
   ]
  },
  {
   "cell_type": "markdown",
   "metadata": {},
   "source": [
    "Matplotlib is a popular Python library for creating plots. It\"s commonly used for generating visualizations like line plots, bar charts, scatter plots, and histograms. These are the most common types of plots:\n",
    "\n",
    "| Plot Type     | Description                                           | Function          |\n",
    "|---------------|-------------------------------------------------------|--------------------------|\n",
    "| Line Plot     | Displays data points connected by straight lines.     | `plt.plot()`             |\n",
    "| Bar Chart     | Represents categorical data with rectangular bars.    | `plt.bar()`              |\n",
    "| Histogram     | Shows the distribution of a dataset.                  | `plt.hist()`             |\n",
    "| Scatter Plot  | Displays the relationship between two variables.      | `plt.scatter()`          |\n",
    "| Pie Chart     | Represents data as slices of a pie.                   | `plt.pie()`              |\n",
    "| Box Plot      | Summarizes data using quartiles.                      | `plt.boxplot()`          |\n",
    "\n",
    "Let\"s display a line plot with two functions as an example. We will use other types of plots in the following tutorials.\n"
   ]
  },
  {
   "cell_type": "code",
   "execution_count": 21,
   "metadata": {},
   "outputs": [
    {
     "data": {
      "image/png": "[encoded data removed]",
      "text/plain": [
       "<Figure size 640x480 with 1 Axes>"
      ]
     },
     "metadata": {},
     "output_type": "display_data"
    }
   ],
   "source": [
    "import matplotlib.pyplot as plt\n",
    "\n",
    "# Generate x values from 0 to 10\n",
    "x = np.linspace(-10, 10, 100)\n",
    "\n",
    "# Calculate y values for x^2 and log(x)\n",
    "y1 = x**2\n",
    "y2 = x\n",
    "\n",
    "# Plot the functions\n",
    "plt.plot(x, y1, label=\"$x^2$\")\n",
    "plt.plot(x, y2, label=\"$x$\")\n",
    "\n",
    "# Add labels and legend\n",
    "plt.xlabel(\"x\")\n",
    "plt.ylabel(\"y\")\n",
    "plt.legend()\n",
    "\n",
    "# Show the plot\n",
    "plt.show()"
   ]
  },
  {
   "cell_type": "markdown",
   "metadata": {},
   "source": [
    "❗️ _**Note:** Make sure your plots contain the scale and label in each axes! If you are plotting multiple data in the same plot, make sure you include a legend too._"
   ]
  },
  {
   "cell_type": "markdown",
   "metadata": {},
   "source": [
    "🚀 _**Further reading:** We invite you to check out this [quick start guide](https://matplotlib.org/stable/users/explain/quick_start.html) from the official Matplotlib documentation for more information about figures structure, layout and presentation. Eventually we might also want to use some functions from the seaborn library for fancier plots. You can check out this [introductory guide](https://seaborn.pydata.org/tutorial/introduction.html)._"
   ]
  }
 ],
 "metadata": {
  "kernelspec": {
   "display_name": ".venv",
   "language": "python",
   "name": "python3"
  },
  "language_info": {
   "codemirror_mode": {
    "name": "ipython",
    "version": 3
   },
   "file_extension": ".py",
   "mimetype": "text/x-python",
   "name": "python",
   "nbconvert_exporter": "python",
   "pygments_lexer": "ipython3",
   "version": "3.11.11"
  }
 },
 "nbformat": 4,
 "nbformat_minor": 2
}
