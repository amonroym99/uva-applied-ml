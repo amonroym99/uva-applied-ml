{
 "cells": [
  {
   "cell_type": "markdown",
   "metadata": {},
   "source": [
    "# Tutorial 4: Classification with kNN\n",
    "[![View notebooks on Github](https://img.shields.io/static/v1.svg?logo=github&label=Repo&message=View%20On%20Github&color=lightgrey)](https://github.com/amonroym99/uva-applied-ml/blob/main/docs/notebooks/4_knn_classif.ipynb)\n",
    "\n",
    "**Author:** Alejandro Monroy\n",
    "\n",
    "In this tutorial, we shift our focus to the second main problem in supervised learning: classification. The objective is to predict a categorical label ($y$) based on the input features ($X$).\n",
    "\n",
    "This notebook introduces two fundamental classification models: k-Nearest Neighbors (kNN) and Logistic Regression. Additionally, we will explore key metrics to evaluate the performance of classification models"
   ]
  },
  {
   "cell_type": "markdown",
   "metadata": {},
   "source": [
    "🤔 _**Food for thought:** While you read this and the next notebooks, try to think about how the models/techniques that we use here compare to the ones we used for regression._"
   ]
  },
  {
   "cell_type": "code",
   "execution_count": 1,
   "metadata": {},
   "outputs": [],
   "source": [
    "import numpy as np"
   ]
  },
  {
   "cell_type": "markdown",
   "metadata": {},
   "source": [
    "## 1. Loading and preparing the data\n",
    "\n",
    "We will use the `wine` dataset from Sklearn, that includes 13 numerical features for wine quality prediction."
   ]
  },
  {
   "cell_type": "code",
   "execution_count": 2,
   "metadata": {},
   "outputs": [
    {
     "name": "stdout",
     "output_type": "stream",
     "text": [
      ".. _wine_dataset:\n",
      "\n",
      "Wine recognition dataset\n",
      "------------------------\n",
      "\n",
      "**Data Set Characteristics:**\n",
      "\n",
      ":Number of Instances: 178\n",
      ":Number of Attributes: 13 numeric, predictive attributes and the class\n",
      ":Attribute Information:\n",
      "    - Alcohol\n",
      "    - Malic acid\n",
      "    - Ash\n",
      "    - Alcalinity of ash\n",
      "    - Magnesium\n",
      "    - Total phenols\n",
      "    - Flavanoids\n",
      "    - Nonflavanoid phenols\n",
      "    - Proanthocyanins\n",
      "    - Color intensity\n",
      "    - Hue\n",
      "    - OD280/OD315 of diluted wines\n",
      "    - Proline\n",
      "    - class:\n",
      "        - class_0\n",
      "        - class_1\n",
      "        - class_2\n",
      "\n",
      ":Summary Statistics:\n",
      "\n",
      "============================= ==== ===== ======= =====\n",
      "                                Min   Max   Mean     SD\n",
      "============================= ==== ===== ======= =====\n",
      "Alcohol:                      11.0  14.8    13.0   0.8\n",
      "Malic Acid:                   0.74  5.80    2.34  1.12\n",
      "Ash:                          1.36  3.23    2.36  0.27\n",
      "Alcalinity of Ash:            10.6  30.0    19.5   3.3\n",
      "Magnesium:                    70.0 162.0    99.7  14.3\n",
      "Total Phenols:                0.98  3.88    2.29  0.63\n",
      "Flavanoids:                   0.34  5.08    2.03  1.00\n",
      "Nonflavanoid Phenols:         0.13  0.66    0.36  0.12\n",
      "Proanthocyanins:              0.41  3.58    1.59  0.57\n",
      "Colour Intensity:              1.3  13.0     5.1   2.3\n",
      "Hue:                          0.48  1.71    0.96  0.23\n",
      "OD280/OD315 of diluted wines: 1.27  4.00    2.61  0.71\n",
      "Proline:                       278  1680     746   315\n",
      "============================= ==== ===== ======= =====\n",
      "\n",
      ":Missing Attribute Values: None\n",
      ":Class Distribution: class_0 (59), class_1 (71), class_2 (48)\n",
      ":Creator: R.A. Fisher\n",
      ":Donor: Michael Marshall (MARSHALL%PLU@io.arc.nasa.gov)\n",
      ":Date: July, 1988\n",
      "\n",
      "This is a copy of UCI ML Wine recognition datasets.\n",
      "https://archive.ics.uci.edu/ml/machine-learning-databases/wine/wine.data\n",
      "\n",
      "The data is the results of a chemical analysis of wines grown in the same\n",
      "region in Italy by three different cultivators. There are thirteen different\n",
      "measurements taken for different constituents found in the three types of\n",
      "wine.\n",
      "\n",
      "Original Owners:\n",
      "\n",
      "Forina, M. et al, PARVUS -\n",
      "An Extendible Package for Data Exploration, Classification and Correlation.\n",
      "Institute of Pharmaceutical and Food Analysis and Technologies,\n",
      "Via Brigata Salerno, 16147 Genoa, Italy.\n",
      "\n",
      "Citation:\n",
      "\n",
      "Lichman, M. (2013). UCI Machine Learning Repository\n",
      "[https://archive.ics.uci.edu/ml]. Irvine, CA: University of California,\n",
      "School of Information and Computer Science.\n",
      "\n",
      ".. dropdown:: References\n",
      "\n",
      "    (1) S. Aeberhard, D. Coomans and O. de Vel,\n",
      "    Comparison of Classifiers in High Dimensional Settings,\n",
      "    Tech. Rep. no. 92-02, (1992), Dept. of Computer Science and Dept. of\n",
      "    Mathematics and Statistics, James Cook University of North Queensland.\n",
      "    (Also submitted to Technometrics).\n",
      "\n",
      "    The data was used with many others for comparing various\n",
      "    classifiers. The classes are separable, though only RDA\n",
      "    has achieved 100% correct classification.\n",
      "    (RDA : 100%, QDA 99.4%, LDA 98.9%, 1NN 96.1% (z-transformed data))\n",
      "    (All results using the leave-one-out technique)\n",
      "\n",
      "    (2) S. Aeberhard, D. Coomans and O. de Vel,\n",
      "    \"THE CLASSIFICATION PERFORMANCE OF RDA\"\n",
      "    Tech. Rep. no. 92-01, (1992), Dept. of Computer Science and Dept. of\n",
      "    Mathematics and Statistics, James Cook University of North Queensland.\n",
      "    (Also submitted to Journal of Chemometrics).\n",
      "\n"
     ]
    }
   ],
   "source": [
    "from sklearn import datasets\n",
    "from sklearn.model_selection import train_test_split\n",
    "\n",
    "wine = datasets.load_wine()\n",
    "print(wine.DESCR)"
   ]
  },
  {
   "cell_type": "code",
   "execution_count": 3,
   "metadata": {},
   "outputs": [
    {
     "name": "stdout",
     "output_type": "stream",
     "text": [
      "(178, 13) (178,)\n",
      "Features of first sample:  [1.423e+01 1.710e+00 2.430e+00 1.560e+01 1.270e+02 2.800e+00 3.060e+00\n",
      " 2.800e-01 2.290e+00 5.640e+00 1.040e+00 3.920e+00 1.065e+03]\n",
      "Label of first sample:  0\n"
     ]
    }
   ],
   "source": [
    "print(wine.data.shape, wine.target.shape)\n",
    "X = wine.data\n",
    "y = wine.target\n",
    "\n",
    "print(\"Features of first sample: \", wine.data[0])\n",
    "print(\"Label of first sample: \", wine.target[0])"
   ]
  },
  {
   "cell_type": "markdown",
   "metadata": {},
   "source": [
    "We have 178 samples in total with 13 numerical features ($X$) and 1 label ($y$) represented with an integer.\n",
    "\n",
    "The first sample belongs to class `0`. Let's see how many classes there are in total:"
   ]
  },
  {
   "cell_type": "code",
   "execution_count": 4,
   "metadata": {},
   "outputs": [
    {
     "name": "stdout",
     "output_type": "stream",
     "text": [
      "Classes:  [0 1 2]\n"
     ]
    }
   ],
   "source": [
    "print(\"Classes: \", np.unique(wine.target))"
   ]
  },
  {
   "cell_type": "markdown",
   "metadata": {},
   "source": [
    "There are three classes, labeled with the integers `0`, `1` and `2`. Now that we know our dataset, let's split it into a training and test set:"
   ]
  },
  {
   "cell_type": "code",
   "execution_count": 5,
   "metadata": {},
   "outputs": [
    {
     "name": "stdout",
     "output_type": "stream",
     "text": [
      "(142, 13) (142,) (36, 13) (36,)\n"
     ]
    }
   ],
   "source": [
    "from sklearn.model_selection import train_test_split\n",
    "\n",
    "X_train, X_test, y_train, y_test = train_test_split(X, y, test_size=0.2, random_state=42, stratify=y)\n",
    "\n",
    "print(X_train.shape, y_train.shape, X_test.shape, y_test.shape)"
   ]
  },
  {
   "cell_type": "markdown",
   "metadata": {},
   "source": [
    "## 2. K-Nearest Neighbors for classification\n",
    "The k-Nearest Neighbors (kNN) algorithm, introduced in the second tutorial, can also be applied to classification tasks. While the process of selecting the nearest neighbors remains the same, the method for determining the predicted value differs. In regression, we calculated a (potentially weighted) average of the target values. For classification, however, the predicted label is determined by selecting the most frequent label among the k nearest neighbors."
   ]
  },
  {
   "cell_type": "markdown",
   "metadata": {},
   "source": [
    "To get the most frequent label, we will have to compute mode of an array. For this purpose, we will use the `scipy.stats.mode` from the `spacy` library. This function returns a tuple `(mode, count)`, where `mode` is the mode value and `count` is the number of appearances of that value in the array:"
   ]
  },
  {
   "cell_type": "code",
   "execution_count": 6,
   "metadata": {},
   "outputs": [
    {
     "name": "stdout",
     "output_type": "stream",
     "text": [
      "Mode: 4\n",
      "Number of appearances: 4\n"
     ]
    }
   ],
   "source": [
    "from scipy.stats import mode\n",
    "\n",
    "# Example array\n",
    "data = np.array([1, 2, 2, 3, 3, 3, 4, 4, 4, 4])\n",
    "\n",
    "mode_val, count = mode(data)\n",
    "\n",
    "print(\"Mode:\", mode_val)\n",
    "print(\"Number of appearances:\", count)"
   ]
  },
  {
   "cell_type": "markdown",
   "metadata": {},
   "source": [
    "If we are only interested in the mode value, we can directly index on the output of the function."
   ]
  },
  {
   "cell_type": "code",
   "execution_count": 7,
   "metadata": {},
   "outputs": [
    {
     "name": "stdout",
     "output_type": "stream",
     "text": [
      "Mode: 4\n"
     ]
    }
   ],
   "source": [
    "print(\"Mode:\", mode(data)[0])"
   ]
  },
  {
   "cell_type": "markdown",
   "metadata": {},
   "source": [
    "Now, let's define our `KNeighborsClassifier` class. The logic is similar to that of the regressor; however, instead of returning the average of the neighbors' target values, we will return the most frequent label (the mode) among the neighbors:"
   ]
  },
  {
   "cell_type": "code",
   "execution_count": 8,
   "metadata": {},
   "outputs": [
    {
     "name": "stdout",
     "output_type": "stream",
     "text": [
      "First 10 predicted labels: [0 2 0 1 2 0 0 1 2 2]\n",
      "First 10 true labels: [0 2 0 1 1 0 0 1 1 2]\n"
     ]
    }
   ],
   "source": [
    "class KNeighborsClassifier:\n",
    "    \"\"\"\n",
    "    K-Nearest Neighbors classifier.\n",
    "    \"\"\"\n",
    "\n",
    "    def __init__(self, n_neighbors=5):\n",
    "        \"\"\"\n",
    "        Initializes the KNeighborsClassifier with the specified number of neighbors.\n",
    "\n",
    "        Args:\n",
    "            n_neighbors (int): Number of neighbors to use for prediction. Default is 5.\n",
    "        \"\"\"\n",
    "        self.n_neighbors = n_neighbors\n",
    "        self.X_train = None\n",
    "        self.y_train = None\n",
    "\n",
    "    def fit(self, X, y):\n",
    "        \"\"\"\n",
    "        Fit the KNN classifier on the training data.\n",
    "\n",
    "        Args:\n",
    "            X (np.ndarray): Training data features.\n",
    "            y (np.ndarray): Training data labels.\n",
    "        \"\"\"\n",
    "        self.X_train = X\n",
    "        self.y_train = y\n",
    "\n",
    "    def predict(self, X):\n",
    "        \"\"\"\n",
    "        Predict the target for the given data.\n",
    "\n",
    "        Args:\n",
    "            X (np.ndarray): Data to predict.\n",
    "\n",
    "        Returns:\n",
    "            np.ndarray: Predicted target values.\n",
    "        \"\"\"\n",
    "        predictions = []\n",
    "        for x in X:\n",
    "            distances = np.linalg.norm(self.X_train - x, axis=1)\n",
    "            k_indices = np.argsort(distances)[:self.n_neighbors]\n",
    "            k_nearest_values = self.y_train[k_indices]\n",
    "            prediction = mode(k_nearest_values)[0]\n",
    "            predictions.append(prediction)\n",
    "        return np.array(predictions)\n",
    "    \n",
    "# Sample usage\n",
    "knn_classifier = KNeighborsClassifier(n_neighbors=7)\n",
    "knn_classifier.fit(X_train, y_train)\n",
    "y_pred = knn_classifier.predict(X_test)\n",
    "print(\"First 10 predicted labels:\", y_pred[:10])\n",
    "print(\"First 10 true labels:\", y_test[:10])\n"
   ]
  },
  {
   "cell_type": "markdown",
   "metadata": {},
   "source": [
    "As a sanity check, let's compare our implementation with the one from Sklearn:"
   ]
  },
  {
   "cell_type": "code",
   "execution_count": 9,
   "metadata": {},
   "outputs": [
    {
     "name": "stdout",
     "output_type": "stream",
     "text": [
      "First 10 predicted labels: [0 2 0 1 2 0 0 1 2 2]\n",
      "First 10 true labels: [0 2 0 1 1 0 0 1 1 2]\n"
     ]
    }
   ],
   "source": [
    "from sklearn.neighbors import KNeighborsClassifier\n",
    "\n",
    "knn_classifier_sklearn = KNeighborsClassifier(n_neighbors=5)\n",
    "knn_classifier_sklearn.fit(X_train, y_train)\n",
    "y_pred_sklearn = knn_classifier.predict(X_test)\n",
    "\n",
    "print(\"First 10 predicted labels:\", y_pred[:10])\n",
    "print(\"First 10 true labels:\", y_test[:10])\n",
    "assert all(y_pred_sklearn == y_pred)"
   ]
  },
  {
   "cell_type": "markdown",
   "metadata": {},
   "source": [
    "## 3. Evaluating classification models \n",
    "Evaluating a classification model involves measuring how well the predicted labels match the ground truth on the test data. This is typically done using metrics like accuracy, precision, recall, and F1 score.\n",
    "\n",
    "### 3.1. Binary classification\n",
    "\n",
    "Let's start with the binary case, i.e. a classification problem where there are only 2 labels: _Positive_ (`1`) and _Negative_ (`0`).\n",
    "\n",
    "We can easily compare the predicted and true labels using a **confusion matrix**:\n",
    "\n",
    "  $$\n",
    "  \\begin{array}{|c|c|c|}\n",
    "  \\hline\n",
    "  & \\text{Predicted Positive} & \\text{Predicted Negative} \\\\\n",
    "  \\hline\n",
    "  \\text{Actual Positive} & TP & FN \\\\\n",
    "  \\hline\n",
    "  \\text{Actual Negative} & FP & TN \\\\\n",
    "  \\hline\n",
    "  \\end{array}\n",
    "  $$\n",
    "\n",
    "  where:\n",
    "  \n",
    "  - $TP$ = True Positives (samples that are predicted as positive and are actually positive).\n",
    "  - $TN$ = True Negatives (samples that are predicted as negative and are actually negative).\n",
    "  - $FP$ = False Positives (samples that are predicted as positive but are actually negative).\n",
    "  - $FN$ = False Negatives (samples that are predicted as negative but are actually positive)."
   ]
  },
  {
   "cell_type": "markdown",
   "metadata": {},
   "source": [
    "❗️ _**Note:** You might encounter other resources that define the confusion matrix with the actual labels on the columns and the predicted labels on the rows. Both conventions are valid, but it's important to be consistent with the one you choose. In this course, we will adhere to the convention where the actual labels are on the rows and the predicted labels are on the columns, which aligns with how Sklearn computes it._"
   ]
  },
  {
   "cell_type": "markdown",
   "metadata": {},
   "source": [
    "We can get the confusion matrix given the lists of true and predicted labels using Sklearn:"
   ]
  },
  {
   "cell_type": "code",
   "execution_count": 10,
   "metadata": {},
   "outputs": [
    {
     "name": "stdout",
     "output_type": "stream",
     "text": [
      "Confusion Matrix:\n",
      "[[8 2]\n",
      " [3 7]]\n"
     ]
    }
   ],
   "source": [
    "from sklearn.metrics import confusion_matrix\n",
    "\n",
    "# Example true labels and predicted labels for binary classification\n",
    "true_labels = np.array([0, 1, 0, 1, 0, 1, 0, 1, 0, 1, 1, 1, 0, 0, 0, 1, 1, 0, 1, 0])\n",
    "predicted_labels = np.array([0, 0, 0, 1, 0, 1, 1, 1, 0, 1, 1, 0, 0, 0, 0, 1, 1, 0, 0, 1])\n",
    "\n",
    "conf_matrix = confusion_matrix(true_labels, predicted_labels)\n",
    "\n",
    "print(\"Confusion Matrix:\")\n",
    "print(conf_matrix)"
   ]
  },
  {
   "cell_type": "markdown",
   "metadata": {},
   "source": [
    "And we can plot it nicely using Matplotlib and Seaborn:"
   ]
  },
  {
   "cell_type": "code",
   "execution_count": 11,
   "metadata": {},
   "outputs": [
    {
     "data": {
      "image/png": "[encoded data removed]",
      "text/plain": [
       "<Figure size 200x150 with 2 Axes>"
      ]
     },
     "metadata": {},
     "output_type": "display_data"
    }
   ],
   "source": [
    "import seaborn as sns\n",
    "import matplotlib.pyplot as plt\n",
    "\n",
    "plt.figure(figsize=(2, 1.5))\n",
    "sns.heatmap(conf_matrix, annot=True, cmap='Blues', xticklabels=[0, 1], yticklabels=[0, 1])\n",
    "plt.xlabel('Predicted')\n",
    "plt.ylabel('Actual')\n",
    "plt.title('Confusion Matrix')\n",
    "plt.show()"
   ]
  },
  {
   "cell_type": "markdown",
   "metadata": {},
   "source": [
    "We can now define some metrics based on the values on the confusion matrix:\n",
    "\n",
    "- **Accuracy**: The ratio of correctly predicted samples to the total instances.\n",
    "  $$\n",
    "  \\text{Accuracy} = \\frac{TP + TN}{TP + TN + FP + FN}\n",
    "  $$\n",
    "\n",
    "\n",
    "- **Precision**: The ratio of correctly predicted positive samples to the total predicted positives.\n",
    "  $$\n",
    "  \\text{Precision} = \\frac{TP}{TP + FP}\n",
    "  $$\n",
    "\n",
    "- **Recall**: The ratio of correctly predicted positive samples to all observations in the actual class.\n",
    "  $$\n",
    "  \\text{Recall} = \\frac{TP}{TP + FN}\n",
    "  $$\n",
    "\n",
    "- **F1 Score**: The harmonic mean of Precision and Recall. It is especially useful when the class distribution is imbalanced.\n",
    "  $$\n",
    "  \\text{F1 Score} = 2 \\cdot \\frac{\\text{Precision} \\cdot \\text{Recall}}{\\text{Precision} + \\text{Recall}}\n",
    "  $$"
   ]
  },
  {
   "cell_type": "code",
   "execution_count": 12,
   "metadata": {},
   "outputs": [
    {
     "name": "stdout",
     "output_type": "stream",
     "text": [
      "Accuracy: 0.7500\n",
      "Precision: 0.7778\n",
      "Recall: 0.7000\n",
      "F1 Score: 0.7368\n"
     ]
    }
   ],
   "source": [
    "from sklearn.metrics import accuracy_score, precision_score, recall_score, f1_score\n",
    "\n",
    "accuracy = accuracy_score(true_labels, predicted_labels)\n",
    "print(\"Accuracy:\", \"{:.4f}\".format(accuracy))\n",
    "\n",
    "precision = precision_score(true_labels, predicted_labels)\n",
    "print(\"Precision:\", \"{:.4f}\".format(precision))\n",
    "\n",
    "recall = recall_score(true_labels, predicted_labels)\n",
    "print(\"Recall:\", \"{:.4f}\".format(recall))\n",
    "\n",
    "f1 = f1_score(true_labels, predicted_labels)\n",
    "print(\"F1 Score:\", \"{:.4f}\".format(f1))"
   ]
  },
  {
   "cell_type": "markdown",
   "metadata": {},
   "source": [
    "🤔 _**Food for thought:** Pay attention to the order of the arguments in the functions that we are using. Note that the true labels go first and the predicted ones go second. Swapping the order would give you a different result for all 4 metrics except for one of them. Can you tell which one?_ "
   ]
  },
  {
   "cell_type": "markdown",
   "metadata": {},
   "source": [
    "Each metric highlights a different aspect of model performance, helping to evaluate the trade-offs between false positives and false negatives. It is important to know which metrics we should pay more attention to depending of the nature of our problem.\n",
    "\n",
    "**Accuracy** measures the overall correctness of the model by calculating the ratio of correctly predicted samples to the total number of samples, but it can be misleading when there is class imbalance. **Precision** focuses on the quality of positive predictions, making it crucial when false positives are costly (for example, in spam detection, where marking a legitimate email as spam can cause inconvenience). **Recall**, on the other hand, measures the model's ability to identify all positive samples, which is important when false negatives are costly (for example, in a medical test, failing to identify a patient with a disease could have severe consequences). F1 Score combines precision and recall into a single metric using their harmonic mean, providing a balanced measure of both.\n"
   ]
  },
  {
   "cell_type": "markdown",
   "metadata": {},
   "source": [
    "### 3.2. Extension to the multiclass case"
   ]
  },
  {
   "cell_type": "markdown",
   "metadata": {},
   "source": [
    "In the multiclass case, the confusion matrix is a $K\\times K$ matrix, where $K$ is the number of classes. Each cell $(i, j)$ in the matrix represents the number of instances of class $i$ that were predicted as class $j$.\n",
    "\n",
    "For example, for a 3-class classification problem, the confusion matrix would look like this:\n",
    "\n",
    "$$\n",
    "\\begin{array}{|c|c|c|c|}\n",
    "\\hline\n",
    " & \\text{Predicted Class 0} & \\text{Predicted Class 1} & \\text{Predicted Class 2} \\\\\n",
    "\\hline\n",
    "\\text{Actual Class 0} & n_{00} & n_{01} & n_{02} \\\\\n",
    "\\hline\n",
    "\\text{Actual Class 1} & n_{10} & n_{11} & n_{12} \\\\\n",
    "\\hline\n",
    "\\text{Actual Class 2} & n_{20} & n_{21} & n_{22} \\\\\n",
    "\\hline\n",
    "\\end{array}\n",
    "$$\n",
    "\n",
    "Where $n_{ij}$ is the number of instances of class $i$ that were predicted as class $j$.\n",
    "\n",
    "The metrics we defined for binary classification can be extended to the multiclass case as follows:\n",
    "\n",
    "- **Accuracy**: The ratio of correctly predicted samples to the total instances.\n",
    "    $$\n",
    "    \\text{Accuracy} = \\frac{\\text{\\#correctly predicted samples}}{\\text{\\#total samples}} = \\frac{\\sum_{i=0}^{C-1} n_{ii}}{\\sum_{i=0}^{C-1} \\sum_{j=0}^{C-1} n_{ij}}.\n",
    "    $$\n",
    "\n",
    "- **Precision**: The ratio of correctly predicted samples of a class to the total predicted samples of that class. For class $i$:\n",
    "    $$\n",
    "    \\text{Precision}_i = \\frac{TP_i}{TP_i+FP_i} = \\frac{n_{ii}}{\\sum_{j=0}^{C-1} n_{ji}}.\n",
    "    $$\n",
    "\n",
    "- **Recall**: The ratio of correctly predicted samples of a class to all observations in the actual class. For class $i$:\n",
    "    $$\n",
    "    \\text{Recall}_i = \\frac{TP_i}{TP_i+FN_i} = \\frac{n_{ii}}{\\sum_{j=0}^{C-1} n_{ij}}.\n",
    "    $$\n",
    "\n",
    "- **F1 Score**: The harmonic mean of Precision and Recall for each class $i$:\n",
    "    $$\n",
    "    \\text{F1 Score}_i = 2 \\cdot \\frac{\\text{Precision}_i \\cdot \\text{Recall}_i}{\\text{Precision}_i + \\text{Recall}_i}.\n",
    "    $$\n",
    "\n",
    "\n",
    "Note that now we compute Precision, Recall and F1-Score at class level. This allows us to analyze how well the model is performing in each class separately. \n",
    "\n",
    "To get a single value for precision, recall, and F1 score across all classes, we can use:\n",
    "- **Macro averaging**: Calculate metrics for each label, and find their unweighted mean. This does not take label imbalance into account.\n",
    "- **Micro averaging**: Calculate metrics globally by counting the total true positives, false negatives and false positives.\n",
    "- **Weighted averaging**: Calculate metrics for each label, and find their average weighted by support (the number of true instances for each label).\n",
    "\n",
    "Let's evaluate the kNN classifier on the wine dataset:"
   ]
  },
  {
   "cell_type": "code",
   "execution_count": 13,
   "metadata": {},
   "outputs": [
    {
     "data": {
      "image/png": "[encoded data removed]",
      "text/plain": [
       "<Figure size 500x400 with 2 Axes>"
      ]
     },
     "metadata": {},
     "output_type": "display_data"
    }
   ],
   "source": [
    "conf_matrix = confusion_matrix(y_test, y_pred)\n",
    "\n",
    "plt.figure(figsize=(5, 4))\n",
    "sns.heatmap(conf_matrix, annot=True, cmap='Blues', xticklabels=wine.target_names, yticklabels=wine.target_names)\n",
    "plt.xlabel('Predicted')\n",
    "plt.ylabel('Actual')\n",
    "plt.title('Confusion Matrix for kNN Classifier on wine Dataset')\n",
    "plt.show()"
   ]
  },
  {
   "cell_type": "markdown",
   "metadata": {},
   "source": [
    "Ideally, we would like the elements in the diagonal (true positives) to be as high as possible, and the elements outside the diagonal to be as low as possible. In this case, we observe only a few errors, especially in classes 1 and 2."
   ]
  },
  {
   "cell_type": "markdown",
   "metadata": {},
   "source": [
    "Let's compute some metrics. The accuracy is:"
   ]
  },
  {
   "cell_type": "code",
   "execution_count": 14,
   "metadata": {},
   "outputs": [
    {
     "name": "stdout",
     "output_type": "stream",
     "text": [
      "Accuracy: 0.7222\n"
     ]
    }
   ],
   "source": [
    "print(\"Accuracy:\", \"{:.4f}\".format(accuracy_score(y_test, y_pred)))"
   ]
  },
  {
   "cell_type": "markdown",
   "metadata": {},
   "source": [
    "Let's now compute the precision, for example. As there are more than two classes, we need to specify how to aggregate the metrics for different classes with the `average` attribute (or set it to `None` to get the metric for each class):"
   ]
  },
  {
   "cell_type": "code",
   "execution_count": 15,
   "metadata": {},
   "outputs": [
    {
     "name": "stdout",
     "output_type": "stream",
     "text": [
      "Precision per class:  [0.92307692 0.72727273 0.5       ]\n"
     ]
    }
   ],
   "source": [
    "print(\"Precision per class: \", precision_score(y_test, y_pred, average=None))\n"
   ]
  },
  {
   "cell_type": "markdown",
   "metadata": {},
   "source": [
    "For example, for `class_0` there are 12 True Positives and 1 False Positive, so the precision is $\\frac{12}{12+1} \\sim 0.9231$. Let's now compute the aggregated metrics with the different strategies:"
   ]
  },
  {
   "cell_type": "code",
   "execution_count": 16,
   "metadata": {},
   "outputs": [
    {
     "name": "stdout",
     "output_type": "stream",
     "text": [
      "Precision (macro):  0.7168\n",
      "Precision (micro):  0.7222\n",
      "Precision (weighted):  0.7294\n"
     ]
    }
   ],
   "source": [
    "print(\"Precision (macro): \", \"{:.4f}\".format(precision_score(y_test, y_pred, average=\"macro\")))\n",
    "print(\"Precision (micro): \", \"{:.4f}\".format(precision_score(y_test, y_pred, average=\"micro\")))\n",
    "print(\"Precision (weighted): \", \"{:.4f}\".format(precision_score(y_test, y_pred, average=\"weighted\")))"
   ]
  },
  {
   "cell_type": "markdown",
   "metadata": {},
   "source": [
    "There is also a very nice function in Sklearn that gives us a summary of all these classification metrics:"
   ]
  },
  {
   "cell_type": "code",
   "execution_count": 17,
   "metadata": {},
   "outputs": [
    {
     "name": "stdout",
     "output_type": "stream",
     "text": [
      "0.7222222222222222\n",
      "Classification Report:\n",
      "              precision    recall  f1-score   support\n",
      "\n",
      "     class_0       0.92      1.00      0.96        12\n",
      "     class_1       0.73      0.57      0.64        14\n",
      "     class_2       0.50      0.60      0.55        10\n",
      "\n",
      "    accuracy                           0.72        36\n",
      "   macro avg       0.72      0.72      0.72        36\n",
      "weighted avg       0.73      0.72      0.72        36\n",
      "\n"
     ]
    }
   ],
   "source": [
    "from sklearn.metrics import classification_report\n",
    "\n",
    "report = classification_report(y_test, y_pred, target_names=wine.target_names)\n",
    "print(accuracy_score(y_test, y_pred))\n",
    "print(\"Classification Report:\")\n",
    "print(report)"
   ]
  },
  {
   "cell_type": "markdown",
   "metadata": {},
   "source": [
    "Here we observe more clearly that the model performs significantly better for `class_0` than for the other two classes. For `class_1` and `class_2`, the metrics are lower and there is a noticeable difference between precision and recall, especially in `class_1`, where the model is only able to identify 57% of the positive samples."
   ]
  }
 ],
 "metadata": {
  "kernelspec": {
   "display_name": "tml_25",
   "language": "python",
   "name": "python3"
  },
  "language_info": {
   "codemirror_mode": {
    "name": "ipython",
    "version": 3
   },
   "file_extension": ".py",
   "mimetype": "text/x-python",
   "name": "python",
   "nbconvert_exporter": "python",
   "pygments_lexer": "ipython3",
   "version": "3.12.9"
  }
 },
 "nbformat": 4,
 "nbformat_minor": 2
}
